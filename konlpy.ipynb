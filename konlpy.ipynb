{
  "nbformat": 4,
  "nbformat_minor": 0,
  "metadata": {
    "colab": {
      "name": "konlpy.ipynb",
      "provenance": [],
      "toc_visible": true,
      "machine_shape": "hm",
      "authorship_tag": "ABX9TyNSckcgTIVfXqWV+cVPyurQ",
      "include_colab_link": true
    },
    "kernelspec": {
      "name": "python3",
      "display_name": "Python 3"
    },
    "language_info": {
      "name": "python"
    },
    "accelerator": "GPU"
  },
  "cells": [
    {
      "cell_type": "markdown",
      "metadata": {
        "id": "view-in-github",
        "colab_type": "text"
      },
      "source": [
        "<a href=\"https://colab.research.google.com/github/ghdakrk/-NLP-/blob/main/konlpy.ipynb\" target=\"_parent\"><img src=\"https://colab.research.google.com/assets/colab-badge.svg\" alt=\"Open In Colab\"/></a>"
      ]
    },
    {
      "cell_type": "code",
      "source": [
        "!pip install konlpy"
      ],
      "metadata": {
        "colab": {
          "base_uri": "https://localhost:8080/"
        },
        "id": "NCLc9UUylVLI",
        "outputId": "be87d84c-4ac9-41c1-e564-b9abd795eec4"
      },
      "execution_count": 4,
      "outputs": [
        {
          "output_type": "stream",
          "name": "stdout",
          "text": [
            "Collecting konlpy\n",
            "  Downloading konlpy-0.5.2-py2.py3-none-any.whl (19.4 MB)\n",
            "\u001b[K     |████████████████████████████████| 19.4 MB 609 kB/s \n",
            "\u001b[?25hCollecting beautifulsoup4==4.6.0\n",
            "  Downloading beautifulsoup4-4.6.0-py3-none-any.whl (86 kB)\n",
            "\u001b[K     |████████████████████████████████| 86 kB 5.5 MB/s \n",
            "\u001b[?25hCollecting colorama\n",
            "  Downloading colorama-0.4.4-py2.py3-none-any.whl (16 kB)\n",
            "Collecting JPype1>=0.7.0\n",
            "  Downloading JPype1-1.3.0-cp37-cp37m-manylinux_2_5_x86_64.manylinux1_x86_64.whl (448 kB)\n",
            "\u001b[K     |████████████████████████████████| 448 kB 39.6 MB/s \n",
            "\u001b[?25hRequirement already satisfied: tweepy>=3.7.0 in /usr/local/lib/python3.7/dist-packages (from konlpy) (3.10.0)\n",
            "Requirement already satisfied: numpy>=1.6 in /usr/local/lib/python3.7/dist-packages (from konlpy) (1.19.5)\n",
            "Requirement already satisfied: lxml>=4.1.0 in /usr/local/lib/python3.7/dist-packages (from konlpy) (4.2.6)\n",
            "Requirement already satisfied: typing-extensions in /usr/local/lib/python3.7/dist-packages (from JPype1>=0.7.0->konlpy) (3.10.0.2)\n",
            "Requirement already satisfied: requests-oauthlib>=0.7.0 in /usr/local/lib/python3.7/dist-packages (from tweepy>=3.7.0->konlpy) (1.3.0)\n",
            "Requirement already satisfied: requests[socks]>=2.11.1 in /usr/local/lib/python3.7/dist-packages (from tweepy>=3.7.0->konlpy) (2.23.0)\n",
            "Requirement already satisfied: six>=1.10.0 in /usr/local/lib/python3.7/dist-packages (from tweepy>=3.7.0->konlpy) (1.15.0)\n",
            "Requirement already satisfied: oauthlib>=3.0.0 in /usr/local/lib/python3.7/dist-packages (from requests-oauthlib>=0.7.0->tweepy>=3.7.0->konlpy) (3.1.1)\n",
            "Requirement already satisfied: urllib3!=1.25.0,!=1.25.1,<1.26,>=1.21.1 in /usr/local/lib/python3.7/dist-packages (from requests[socks]>=2.11.1->tweepy>=3.7.0->konlpy) (1.24.3)\n",
            "Requirement already satisfied: certifi>=2017.4.17 in /usr/local/lib/python3.7/dist-packages (from requests[socks]>=2.11.1->tweepy>=3.7.0->konlpy) (2021.10.8)\n",
            "Requirement already satisfied: idna<3,>=2.5 in /usr/local/lib/python3.7/dist-packages (from requests[socks]>=2.11.1->tweepy>=3.7.0->konlpy) (2.10)\n",
            "Requirement already satisfied: chardet<4,>=3.0.2 in /usr/local/lib/python3.7/dist-packages (from requests[socks]>=2.11.1->tweepy>=3.7.0->konlpy) (3.0.4)\n",
            "Requirement already satisfied: PySocks!=1.5.7,>=1.5.6 in /usr/local/lib/python3.7/dist-packages (from requests[socks]>=2.11.1->tweepy>=3.7.0->konlpy) (1.7.1)\n",
            "Installing collected packages: JPype1, colorama, beautifulsoup4, konlpy\n",
            "  Attempting uninstall: beautifulsoup4\n",
            "    Found existing installation: beautifulsoup4 4.6.3\n",
            "    Uninstalling beautifulsoup4-4.6.3:\n",
            "      Successfully uninstalled beautifulsoup4-4.6.3\n",
            "Successfully installed JPype1-1.3.0 beautifulsoup4-4.6.0 colorama-0.4.4 konlpy-0.5.2\n"
          ]
        }
      ]
    },
    {
      "cell_type": "code",
      "execution_count": 6,
      "metadata": {
        "colab": {
          "base_uri": "https://localhost:8080/"
        },
        "id": "MrrMxsFYlIx0",
        "outputId": "309ead54-8002-46a8-dcef-c4571ab2d15d"
      },
      "outputs": [
        {
          "output_type": "execute_result",
          "data": {
            "text/plain": [
              "['constitution.txt']"
            ]
          },
          "metadata": {},
          "execution_count": 6
        }
      ],
      "source": [
        "from konlpy.corpus import kolaw\n",
        "kolaw.fileids()"
      ]
    },
    {
      "cell_type": "code",
      "source": [
        "c = kolaw.open('constitution.txt').read()\n",
        "c[:450]"
      ],
      "metadata": {
        "colab": {
          "base_uri": "https://localhost:8080/",
          "height": 90
        },
        "id": "u4Tpb-iTlRda",
        "outputId": "13c728df-98f9-463c-925b-ff200e619585"
      },
      "execution_count": 7,
      "outputs": [
        {
          "output_type": "execute_result",
          "data": {
            "application/vnd.google.colaboratory.intrinsic+json": {
              "type": "string"
            },
            "text/plain": [
              "'대한민국헌법\\n\\n유구한 역사와 전통에 빛나는 우리 대한국민은 3·1운동으로 건립된 대한민국임시정부의 법통과 불의에 항거한 4·19민주이념을 계승하고, 조국의 민주개혁과 평화적 통일의 사명에 입각하여 정의·인도와 동포애로써 민족의 단결을 공고히 하고, 모든 사회적 폐습과 불의를 타파하며, 자율과 조화를 바탕으로 자유민주적 기본질서를 더욱 확고히 하여 정치·경제·사회·문화의 모든 영역에 있어서 각인의 기회를 균등히 하고, 능력을 최고도로 발휘하게 하며, 자유와 권리에 따르는 책임과 의무를 완수하게 하여, 안으로는 국민생활의 균등한 향상을 기하고 밖으로는 항구적인 세계평화와 인류공영에 이바지함으로써 우리들과 우리들의 자손의 안전과 자유와 행복을 영원히 확보할 것을 다짐하면서 1948년 7월 12일에 제정되고 8차에 걸쳐 개정된 헌법을 이제 국회의 의결을 거쳐 국민투표에 의하여 개정한다.\\n\\n       '"
            ]
          },
          "metadata": {},
          "execution_count": 7
        }
      ]
    },
    {
      "cell_type": "code",
      "source": [
        "from konlpy.corpus import kobill\n",
        "kobill.fileids()"
      ],
      "metadata": {
        "colab": {
          "base_uri": "https://localhost:8080/"
        },
        "id": "ppMLCPvXlpyI",
        "outputId": "b5f0ca10-f750-40a7-fc63-7b8092587cb7"
      },
      "execution_count": 8,
      "outputs": [
        {
          "output_type": "execute_result",
          "data": {
            "text/plain": [
              "['1809897.txt',\n",
              " '1809892.txt',\n",
              " '1809896.txt',\n",
              " '1809895.txt',\n",
              " '1809894.txt',\n",
              " '1809891.txt',\n",
              " '1809890.txt',\n",
              " '1809898.txt',\n",
              " '1809899.txt',\n",
              " '1809893.txt']"
            ]
          },
          "metadata": {},
          "execution_count": 8
        }
      ]
    },
    {
      "cell_type": "code",
      "source": [
        "d = kobill.open('1809890.txt').read()\n",
        "print(d[:400])"
      ],
      "metadata": {
        "colab": {
          "base_uri": "https://localhost:8080/"
        },
        "id": "5zR5B5BJlx31",
        "outputId": "d1f158b5-5355-4d5d-b6d4-ad6573da613b"
      },
      "execution_count": 9,
      "outputs": [
        {
          "output_type": "stream",
          "name": "stdout",
          "text": [
            "지방공무원법 일부개정법률안\n",
            "\n",
            "(정의화의원 대표발의 )\n",
            "\n",
            " 의 안\n",
            " 번 호\n",
            "\n",
            "9890\n",
            "\n",
            "발의연월일 : 2010.  11.  12.  \n",
            "\n",
            "발  의  자 : 정의화․이명수․김을동 \n",
            "\n",
            "이사철․여상규․안규백\n",
            "\n",
            "황영철․박영아․김정훈\n",
            "\n",
            "김학송 의원(10인)\n",
            "\n",
            "제안이유 및 주요내용\n",
            "\n",
            "  초등학교 저학년의 경우에도 부모의 따뜻한 사랑과 보살핌이 필요\n",
            "\n",
            "한 나이이나, 현재 공무원이 자녀를 양육하기 위하여 육아휴직을 할 \n",
            "\n",
            "수 있는 자녀의 나이는 만 6세 이하로 되어 있어 초등학교 저학년인 \n",
            "\n",
            "자녀를 돌보기 위해서는 해당 부모님은 일자리를 그만 두어야 하고 \n",
            "\n",
            "이는 곧 출산의욕을 저하시키는 문제로 이어질 수 있을 것임.\n",
            "\n",
            "  따라서 육아휴직이 가능한 자녀의 연령을 만 8세 이하로 개정하려\n",
            "\n",
            "는 것임(안 제63조제2항제4호).\n",
            "\n"
          ]
        }
      ]
    },
    {
      "cell_type": "code",
      "source": [
        "# 형태소 분석기\n",
        "from konlpy.tag import *\n",
        "\n",
        "hannanum = Hannanum()\n",
        "kkma = Kkma()\n",
        "okt = Okt()"
      ],
      "metadata": {
        "id": "xrfN0k4Zl6WJ"
      },
      "execution_count": 14,
      "outputs": []
    },
    {
      "cell_type": "code",
      "source": [
        "hannanum.nouns(c[:40])"
      ],
      "metadata": {
        "colab": {
          "base_uri": "https://localhost:8080/"
        },
        "id": "7vMohqmsmEDN",
        "outputId": "2386e839-02b0-424d-c541-e3ecd9422fdb"
      },
      "execution_count": 15,
      "outputs": [
        {
          "output_type": "execute_result",
          "data": {
            "text/plain": [
              "['대한민국헌법', '유구', '역사', '전통', '빛', '우리', '대한국민', '3·1운동']"
            ]
          },
          "metadata": {},
          "execution_count": 15
        }
      ]
    },
    {
      "cell_type": "code",
      "source": [
        "kkma.nouns(c[:40])"
      ],
      "metadata": {
        "colab": {
          "base_uri": "https://localhost:8080/"
        },
        "id": "3Hm4CoRCmTQN",
        "outputId": "a288d0e3-8c2b-47e8-ffec-7ab4fdaa76aa"
      },
      "execution_count": 17,
      "outputs": [
        {
          "output_type": "execute_result",
          "data": {
            "text/plain": [
              "['대한',\n",
              " '대한민국',\n",
              " '대한민국헌법',\n",
              " '민국',\n",
              " '헌법',\n",
              " '유구',\n",
              " '역사',\n",
              " '전통',\n",
              " '우리',\n",
              " '국민',\n",
              " '3',\n",
              " '1',\n",
              " '1운동',\n",
              " '운동']"
            ]
          },
          "metadata": {},
          "execution_count": 17
        }
      ]
    },
    {
      "cell_type": "code",
      "source": [
        "hannanum.morphs(c[:40])"
      ],
      "metadata": {
        "colab": {
          "base_uri": "https://localhost:8080/"
        },
        "id": "KgC7sIenmhRN",
        "outputId": "c0bf43a5-366f-416c-b2e9-1078d0253d40"
      },
      "execution_count": 18,
      "outputs": [
        {
          "output_type": "execute_result",
          "data": {
            "text/plain": [
              "['대한민국헌법',\n",
              " '유구',\n",
              " '하',\n",
              " 'ㄴ',\n",
              " '역사',\n",
              " '와',\n",
              " '전통',\n",
              " '에',\n",
              " '빛',\n",
              " '나는',\n",
              " '우리',\n",
              " '대한국민',\n",
              " '은',\n",
              " '3·1운동',\n",
              " '으로']"
            ]
          },
          "metadata": {},
          "execution_count": 18
        }
      ]
    },
    {
      "cell_type": "code",
      "source": [
        "# 품사부착\n",
        "hannanum.pos(c[:40])"
      ],
      "metadata": {
        "colab": {
          "base_uri": "https://localhost:8080/"
        },
        "id": "K717Bvfpqpln",
        "outputId": "af6cb5a3-5f5b-4cb7-b898-7cdf61fb9508"
      },
      "execution_count": 20,
      "outputs": [
        {
          "output_type": "execute_result",
          "data": {
            "text/plain": [
              "[('대한민국헌법', 'N'),\n",
              " ('유구', 'N'),\n",
              " ('하', 'X'),\n",
              " ('ㄴ', 'E'),\n",
              " ('역사', 'N'),\n",
              " ('와', 'J'),\n",
              " ('전통', 'N'),\n",
              " ('에', 'J'),\n",
              " ('빛', 'N'),\n",
              " ('나는', 'J'),\n",
              " ('우리', 'N'),\n",
              " ('대한국민', 'N'),\n",
              " ('은', 'J'),\n",
              " ('3·1운동', 'N'),\n",
              " ('으로', 'J')]"
            ]
          },
          "metadata": {},
          "execution_count": 20
        }
      ]
    },
    {
      "cell_type": "code",
      "source": [
        "hannanum.tagset"
      ],
      "metadata": {
        "colab": {
          "base_uri": "https://localhost:8080/"
        },
        "id": "bh7VG35fq9UM",
        "outputId": "59ed3518-826d-446a-cbaf-ff4cd1853b30"
      },
      "execution_count": 21,
      "outputs": [
        {
          "output_type": "execute_result",
          "data": {
            "text/plain": [
              "{'E': '어미',\n",
              " 'EC': '연결 어미',\n",
              " 'EF': '종결 어미',\n",
              " 'EP': '선어말어미',\n",
              " 'ET': '전성 어미',\n",
              " 'F': '외국어',\n",
              " 'I': '독립언',\n",
              " 'II': '감탄사',\n",
              " 'J': '관계언',\n",
              " 'JC': '격조사',\n",
              " 'JP': '서술격 조사',\n",
              " 'JX': '보조사',\n",
              " 'M': '수식언',\n",
              " 'MA': '부사',\n",
              " 'MM': '관형사',\n",
              " 'N': '체언',\n",
              " 'NB': '의존명사',\n",
              " 'NC': '보통명사',\n",
              " 'NN': '수사',\n",
              " 'NP': '대명사',\n",
              " 'NQ': '고유명사',\n",
              " 'P': '용언',\n",
              " 'PA': '형용사',\n",
              " 'PV': '동사',\n",
              " 'PX': '보조 용언',\n",
              " 'S': '기호',\n",
              " 'X': '접사',\n",
              " 'XP': '접두사',\n",
              " 'XS': '접미사'}"
            ]
          },
          "metadata": {},
          "execution_count": 21
        }
      ]
    },
    {
      "cell_type": "code",
      "source": [
        "kkma.tagset"
      ],
      "metadata": {
        "colab": {
          "base_uri": "https://localhost:8080/"
        },
        "id": "S5KY6QgWrBAi",
        "outputId": "3fc6187c-b879-4f32-ad08-44287f8fd3c6"
      },
      "execution_count": 22,
      "outputs": [
        {
          "output_type": "execute_result",
          "data": {
            "text/plain": [
              "{'EC': '연결 어미',\n",
              " 'ECD': '의존적 연결 어미',\n",
              " 'ECE': '대등 연결 어미',\n",
              " 'ECS': '보조적 연결 어미',\n",
              " 'EF': '종결 어미',\n",
              " 'EFA': '청유형 종결 어미',\n",
              " 'EFI': '감탄형 종결 어미',\n",
              " 'EFN': '평서형 종결 어미',\n",
              " 'EFO': '명령형 종결 어미',\n",
              " 'EFQ': '의문형 종결 어미',\n",
              " 'EFR': '존칭형 종결 어미',\n",
              " 'EP': '선어말 어미',\n",
              " 'EPH': '존칭 선어말 어미',\n",
              " 'EPP': '공손 선어말 어미',\n",
              " 'EPT': '시제 선어말 어미',\n",
              " 'ET': '전성 어미',\n",
              " 'ETD': '관형형 전성 어미',\n",
              " 'ETN': '명사형 전성 어미',\n",
              " 'IC': '감탄사',\n",
              " 'JC': '접속 조사',\n",
              " 'JK': '조사',\n",
              " 'JKC': '보격 조사',\n",
              " 'JKG': '관형격 조사',\n",
              " 'JKI': '호격 조사',\n",
              " 'JKM': '부사격 조사',\n",
              " 'JKO': '목적격 조사',\n",
              " 'JKQ': '인용격 조사',\n",
              " 'JKS': '주격 조사',\n",
              " 'JX': '보조사',\n",
              " 'MA': '부사',\n",
              " 'MAC': '접속 부사',\n",
              " 'MAG': '일반 부사',\n",
              " 'MD': '관형사',\n",
              " 'MDN': '수 관형사',\n",
              " 'MDT': '일반 관형사',\n",
              " 'NN': '명사',\n",
              " 'NNB': '일반 의존 명사',\n",
              " 'NNG': '보통명사',\n",
              " 'NNM': '단위 의존 명사',\n",
              " 'NNP': '고유명사',\n",
              " 'NP': '대명사',\n",
              " 'NR': '수사',\n",
              " 'OH': '한자',\n",
              " 'OL': '외국어',\n",
              " 'ON': '숫자',\n",
              " 'SE': '줄임표',\n",
              " 'SF': '마침표, 물음표, 느낌표',\n",
              " 'SO': '붙임표(물결,숨김,빠짐)',\n",
              " 'SP': '쉼표,가운뎃점,콜론,빗금',\n",
              " 'SS': '따옴표,괄호표,줄표',\n",
              " 'SW': '기타기호 (논리수학기호,화폐기호)',\n",
              " 'UN': '명사추정범주',\n",
              " 'VA': '형용사',\n",
              " 'VC': '지정사',\n",
              " 'VCN': \"부정 지정사, 형용사 '아니다'\",\n",
              " 'VCP': \"긍정 지정사, 서술격 조사 '이다'\",\n",
              " 'VV': '동사',\n",
              " 'VX': '보조 용언',\n",
              " 'VXA': '보조 형용사',\n",
              " 'VXV': '보조 동사',\n",
              " 'XP': '접두사',\n",
              " 'XPN': '체언 접두사',\n",
              " 'XPV': '용언 접두사',\n",
              " 'XR': '어근',\n",
              " 'XSA': '형용사 파생 접미사',\n",
              " 'XSN': '명사파생 접미사',\n",
              " 'XSV': '동사 파생 접미사'}"
            ]
          },
          "metadata": {},
          "execution_count": 22
        }
      ]
    },
    {
      "cell_type": "code",
      "source": [
        "!git push origin main"
      ],
      "metadata": {
        "colab": {
          "base_uri": "https://localhost:8080/"
        },
        "id": "FfYrC_SurM2Q",
        "outputId": "7e50979b-7f73-4585-f461-c29448c32611"
      },
      "execution_count": 38,
      "outputs": [
        {
          "output_type": "stream",
          "name": "stdout",
          "text": [
            "fatal: could not read Username for 'https://github.com': No such device or address\n"
          ]
        }
      ]
    }
  ]
}