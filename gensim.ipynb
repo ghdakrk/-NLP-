{
  "nbformat": 4,
  "nbformat_minor": 0,
  "metadata": {
    "colab": {
      "name": "gensim.ipynb",
      "provenance": [],
      "collapsed_sections": [],
      "authorship_tag": "ABX9TyO/P3gtxg6KSXxI2sqUOaZG",
      "include_colab_link": true
    },
    "kernelspec": {
      "name": "python3",
      "display_name": "Python 3"
    },
    "language_info": {
      "name": "python"
    },
    "accelerator": "GPU"
  },
  "cells": [
    {
      "cell_type": "markdown",
      "metadata": {
        "id": "view-in-github",
        "colab_type": "text"
      },
      "source": [
        "<a href=\"https://colab.research.google.com/github/ghdakrk/-NLP-/blob/main/gensim.ipynb\" target=\"_parent\"><img src=\"https://colab.research.google.com/assets/colab-badge.svg\" alt=\"Open In Colab\"/></a>"
      ]
    },
    {
      "cell_type": "code",
      "source": [
        "# gensim package\n",
        "!pip install gensim\n",
        "!pip install pyLDAvis"
      ],
      "metadata": {
        "colab": {
          "base_uri": "https://localhost:8080/"
        },
        "id": "ucWKiXYrExHr",
        "outputId": "0ca80a44-99b7-4f49-83cd-c2d9fbe35b68"
      },
      "execution_count": 1,
      "outputs": [
        {
          "output_type": "stream",
          "name": "stdout",
          "text": [
            "Requirement already satisfied: gensim in /usr/local/lib/python3.7/dist-packages (3.6.0)\n",
            "Requirement already satisfied: scipy>=0.18.1 in /usr/local/lib/python3.7/dist-packages (from gensim) (1.4.1)\n",
            "Requirement already satisfied: smart-open>=1.2.1 in /usr/local/lib/python3.7/dist-packages (from gensim) (5.2.1)\n",
            "Requirement already satisfied: numpy>=1.11.3 in /usr/local/lib/python3.7/dist-packages (from gensim) (1.21.4)\n",
            "Requirement already satisfied: six>=1.5.0 in /usr/local/lib/python3.7/dist-packages (from gensim) (1.15.0)\n",
            "Requirement already satisfied: pyLDAvis in /usr/local/lib/python3.7/dist-packages (3.3.1)\n",
            "Requirement already satisfied: gensim in /usr/local/lib/python3.7/dist-packages (from pyLDAvis) (3.6.0)\n",
            "Requirement already satisfied: numpy>=1.20.0 in /usr/local/lib/python3.7/dist-packages (from pyLDAvis) (1.21.4)\n",
            "Requirement already satisfied: scikit-learn in /usr/local/lib/python3.7/dist-packages (from pyLDAvis) (1.0.1)\n",
            "Requirement already satisfied: scipy in /usr/local/lib/python3.7/dist-packages (from pyLDAvis) (1.4.1)\n",
            "Requirement already satisfied: funcy in /usr/local/lib/python3.7/dist-packages (from pyLDAvis) (1.16)\n",
            "Requirement already satisfied: pandas>=1.2.0 in /usr/local/lib/python3.7/dist-packages (from pyLDAvis) (1.3.4)\n",
            "Requirement already satisfied: sklearn in /usr/local/lib/python3.7/dist-packages (from pyLDAvis) (0.0)\n",
            "Requirement already satisfied: numexpr in /usr/local/lib/python3.7/dist-packages (from pyLDAvis) (2.7.3)\n",
            "Requirement already satisfied: setuptools in /usr/local/lib/python3.7/dist-packages (from pyLDAvis) (57.4.0)\n",
            "Requirement already satisfied: jinja2 in /usr/local/lib/python3.7/dist-packages (from pyLDAvis) (2.11.3)\n",
            "Requirement already satisfied: joblib in /usr/local/lib/python3.7/dist-packages (from pyLDAvis) (1.1.0)\n",
            "Requirement already satisfied: future in /usr/local/lib/python3.7/dist-packages (from pyLDAvis) (0.16.0)\n",
            "Requirement already satisfied: python-dateutil>=2.7.3 in /usr/local/lib/python3.7/dist-packages (from pandas>=1.2.0->pyLDAvis) (2.8.2)\n",
            "Requirement already satisfied: pytz>=2017.3 in /usr/local/lib/python3.7/dist-packages (from pandas>=1.2.0->pyLDAvis) (2018.9)\n",
            "Requirement already satisfied: six>=1.5 in /usr/local/lib/python3.7/dist-packages (from python-dateutil>=2.7.3->pandas>=1.2.0->pyLDAvis) (1.15.0)\n",
            "Requirement already satisfied: smart-open>=1.2.1 in /usr/local/lib/python3.7/dist-packages (from gensim->pyLDAvis) (5.2.1)\n",
            "Requirement already satisfied: MarkupSafe>=0.23 in /usr/local/lib/python3.7/dist-packages (from jinja2->pyLDAvis) (2.0.1)\n",
            "Requirement already satisfied: threadpoolctl>=2.0.0 in /usr/local/lib/python3.7/dist-packages (from scikit-learn->pyLDAvis) (3.0.0)\n"
          ]
        }
      ]
    },
    {
      "cell_type": "code",
      "source": [
        "corpus = [\n",
        "          'This is the first document.',\n",
        "          'This is the second second document.',\n",
        "          'And the third one.',\n",
        "          'Is this the first document?',\n",
        "          'The last document?',\n",
        "]\n",
        "token_list = [[text for text in doc.split()] for doc in corpus]\n",
        "token_list"
      ],
      "metadata": {
        "colab": {
          "base_uri": "https://localhost:8080/"
        },
        "id": "H-rAbcorE1S0",
        "outputId": "8f73b298-8db7-4656-e108-519d2350b035"
      },
      "execution_count": 2,
      "outputs": [
        {
          "output_type": "execute_result",
          "data": {
            "text/plain": [
              "[['This', 'is', 'the', 'first', 'document.'],\n",
              " ['This', 'is', 'the', 'second', 'second', 'document.'],\n",
              " ['And', 'the', 'third', 'one.'],\n",
              " ['Is', 'this', 'the', 'first', 'document?'],\n",
              " ['The', 'last', 'document?']]"
            ]
          },
          "metadata": {},
          "execution_count": 2
        }
      ]
    },
    {
      "cell_type": "code",
      "source": [
        "from gensim.corpora import Dictionary\n",
        "\n",
        "dictionary = Dictionary(token_list)\n",
        "dictionary.token2id"
      ],
      "metadata": {
        "colab": {
          "base_uri": "https://localhost:8080/"
        },
        "id": "0RA0Urj2FJ7E",
        "outputId": "d1ea276f-df81-44c7-86c9-541c51608b69"
      },
      "execution_count": 3,
      "outputs": [
        {
          "output_type": "execute_result",
          "data": {
            "text/plain": [
              "{'And': 6,\n",
              " 'Is': 9,\n",
              " 'The': 12,\n",
              " 'This': 0,\n",
              " 'document.': 1,\n",
              " 'document?': 10,\n",
              " 'first': 2,\n",
              " 'is': 3,\n",
              " 'last': 13,\n",
              " 'one.': 7,\n",
              " 'second': 5,\n",
              " 'the': 4,\n",
              " 'third': 8,\n",
              " 'this': 11}"
            ]
          },
          "metadata": {},
          "execution_count": 3
        }
      ]
    },
    {
      "cell_type": "code",
      "source": [
        "term_matrix = [dictionary.doc2bow(token) for token in token_list]\n",
        "term_matrix"
      ],
      "metadata": {
        "colab": {
          "base_uri": "https://localhost:8080/"
        },
        "id": "AiUgxwaqFZ4x",
        "outputId": "2f976779-d431-42ba-c630-29cecf889cc7"
      },
      "execution_count": 4,
      "outputs": [
        {
          "output_type": "execute_result",
          "data": {
            "text/plain": [
              "[[(0, 1), (1, 1), (2, 1), (3, 1), (4, 1)],\n",
              " [(0, 1), (1, 1), (3, 1), (4, 1), (5, 2)],\n",
              " [(4, 1), (6, 1), (7, 1), (8, 1)],\n",
              " [(2, 1), (4, 1), (9, 1), (10, 1), (11, 1)],\n",
              " [(10, 1), (12, 1), (13, 1)]]"
            ]
          },
          "metadata": {},
          "execution_count": 4
        }
      ]
    },
    {
      "cell_type": "code",
      "source": [
        "from gensim.models import TfidfModel\n",
        "\n",
        "tfidf = TfidfModel(term_matrix)\n",
        "\n",
        "for doc in tfidf[term_matrix]:\n",
        "    print(\"doc:\")\n",
        "    for k, v in doc:\n",
        "        print(k, v)"
      ],
      "metadata": {
        "colab": {
          "base_uri": "https://localhost:8080/"
        },
        "id": "4gfiia9iFlAd",
        "outputId": "dd24e5bf-da24-4dd7-f603-e178c2c221aa"
      },
      "execution_count": 5,
      "outputs": [
        {
          "output_type": "stream",
          "name": "stdout",
          "text": [
            "doc:\n",
            "0 0.49633406058198626\n",
            "1 0.49633406058198626\n",
            "2 0.49633406058198626\n",
            "3 0.49633406058198626\n",
            "4 0.12087183801361165\n",
            "doc:\n",
            "0 0.25482305694621393\n",
            "1 0.25482305694621393\n",
            "3 0.25482305694621393\n",
            "4 0.0620568558708622\n",
            "5 0.8951785160431313\n",
            "doc:\n",
            "4 0.07979258234193365\n",
            "6 0.5755093812740171\n",
            "7 0.5755093812740171\n",
            "8 0.5755093812740171\n",
            "doc:\n",
            "2 0.3485847413542797\n",
            "4 0.08489056411237639\n",
            "9 0.6122789185961829\n",
            "10 0.3485847413542797\n",
            "11 0.6122789185961829\n",
            "doc:\n",
            "10 0.37344696513776354\n",
            "12 0.6559486886294514\n",
            "13 0.6559486886294514\n"
          ]
        }
      ]
    },
    {
      "cell_type": "code",
      "source": [
        "# topic modeling\n",
        "from sklearn.datasets import fetch_20newsgroups\n",
        "\n",
        "newsgroups = fetch_20newsgroups(\n",
        "    categories=['comp.graphics', 'rec.sport.baseball', 'sci.med']\n",
        ")"
      ],
      "metadata": {
        "id": "-rNTlpZCG9Mg"
      },
      "execution_count": 6,
      "outputs": []
    },
    {
      "cell_type": "code",
      "source": [
        "import nltk\n",
        "nltk.download('punkt')\n",
        "nltk.download('averaged_perceptron_tagger')"
      ],
      "metadata": {
        "colab": {
          "base_uri": "https://localhost:8080/"
        },
        "id": "l2xdFM3LIIVC",
        "outputId": "e63ba61f-4268-4710-a0b8-ffb649d0ba27"
      },
      "execution_count": 7,
      "outputs": [
        {
          "output_type": "stream",
          "name": "stdout",
          "text": [
            "[nltk_data] Downloading package punkt to /root/nltk_data...\n",
            "[nltk_data]   Package punkt is already up-to-date!\n",
            "[nltk_data] Downloading package averaged_perceptron_tagger to\n",
            "[nltk_data]     /root/nltk_data...\n",
            "[nltk_data]   Package averaged_perceptron_tagger is already up-to-\n",
            "[nltk_data]       date!\n"
          ]
        },
        {
          "output_type": "execute_result",
          "data": {
            "text/plain": [
              "True"
            ]
          },
          "metadata": {},
          "execution_count": 7
        }
      ]
    },
    {
      "cell_type": "code",
      "source": [
        "# 명사추출\n",
        "%%time\n",
        "from nltk.tag import pos_tag\n",
        "from nltk.tokenize import word_tokenize\n",
        "\n",
        "tagged_list = [pos_tag(word_tokenize(doc)) for doc in newsgroups.data]\n",
        "nouns_list = [[t[0] for t in doc if t[1].startswith(\"N\")] for doc in tagged_list]"
      ],
      "metadata": {
        "colab": {
          "base_uri": "https://localhost:8080/"
        },
        "id": "VD3-A_A2Hk3D",
        "outputId": "39f9be08-6d9c-49a8-c02c-41aac14db4f7"
      },
      "execution_count": 8,
      "outputs": [
        {
          "output_type": "stream",
          "name": "stdout",
          "text": [
            "CPU times: user 24 s, sys: 186 ms, total: 24.1 s\n",
            "Wall time: 24.1 s\n"
          ]
        }
      ]
    },
    {
      "cell_type": "code",
      "source": [
        "# 표제어 추출\n",
        "nltk.download('wordnet')\n",
        "from nltk.stem import WordNetLemmatizer\n",
        "\n",
        "lm = WordNetLemmatizer()\n",
        "\n",
        "nouns_list = [[lm.lemmatize(w, pos=\"n\") for w in doc] for doc in nouns_list]"
      ],
      "metadata": {
        "colab": {
          "base_uri": "https://localhost:8080/"
        },
        "id": "5FLDxdokIFy5",
        "outputId": "07ff1bd5-1ae0-4410-c8c7-c62ea5493e58"
      },
      "execution_count": 9,
      "outputs": [
        {
          "output_type": "stream",
          "name": "stdout",
          "text": [
            "[nltk_data] Downloading package wordnet to /root/nltk_data...\n",
            "[nltk_data]   Package wordnet is already up-to-date!\n"
          ]
        }
      ]
    },
    {
      "cell_type": "code",
      "source": [
        "# 불용어 제거\n",
        "import re\n",
        "token_list = [[text.lower() for text in doc] for doc in nouns_list]\n",
        "token_list = [[re.sub(r\"[^A-Za-z]+\" , \"\", word) for word in doc] for doc in token_list]"
      ],
      "metadata": {
        "id": "1P6NGAGLJNrN"
      },
      "execution_count": 10,
      "outputs": []
    },
    {
      "cell_type": "code",
      "source": [
        "from nltk.corpus import stopwords\n",
        "nltk.download('stopwords')\n",
        "stop_words = stopwords.words('english')\n",
        "stop_words += [\"\", \"subject\", \"article\", \"line\", \"year\", \"month\", \"address\", \"keyword\", \"msg\"]\n",
        "\n",
        "token_list = [[word for word in doc if (word not in stop_words) and (2 < len(word) < 10)]\n",
        "              for doc in token_list]"
      ],
      "metadata": {
        "colab": {
          "base_uri": "https://localhost:8080/"
        },
        "id": "yU2TtZ0iNZy4",
        "outputId": "3a442141-fab1-4fd1-f71f-74731ee79a38"
      },
      "execution_count": 11,
      "outputs": [
        {
          "output_type": "stream",
          "name": "stdout",
          "text": [
            "[nltk_data] Downloading package stopwords to /root/nltk_data...\n",
            "[nltk_data]   Package stopwords is already up-to-date!\n"
          ]
        }
      ]
    },
    {
      "cell_type": "code",
      "source": [
        "# 결과\n",
        "from gensim import corpora\n",
        "\n",
        "dictionary = corpora.Dictionary(token_list)\n",
        "doc_term_matrix = [dictionary.doc2bow(tokens) for tokens in token_list]"
      ],
      "metadata": {
        "id": "hIkH-XTrN5XL"
      },
      "execution_count": 12,
      "outputs": []
    },
    {
      "cell_type": "code",
      "source": [
        "%%time\n",
        "from gensim.models.ldamodel import LdaModel\n",
        "\n",
        "model = LdaModel(corpus=doc_term_matrix, id2word=dictionary, num_topics=3,)"
      ],
      "metadata": {
        "colab": {
          "base_uri": "https://localhost:8080/"
        },
        "id": "WzmCuZY6OPg7",
        "outputId": "1b959840-e185-445c-d4f7-449feba5bfd8"
      },
      "execution_count": 13,
      "outputs": [
        {
          "output_type": "stream",
          "name": "stdout",
          "text": [
            "CPU times: user 2.58 s, sys: 164 ms, total: 2.74 s\n",
            "Wall time: 2.56 s\n"
          ]
        }
      ]
    },
    {
      "cell_type": "code",
      "source": [
        "model.print_topics()"
      ],
      "metadata": {
        "colab": {
          "base_uri": "https://localhost:8080/"
        },
        "id": "-GZsOeRiOdZl",
        "outputId": "552dbb5a-65ef-4e41-a527-e4887a766b14"
      },
      "execution_count": 14,
      "outputs": [
        {
          "output_type": "execute_result",
          "data": {
            "text/plain": [
              "[(0,\n",
              "  '0.014*\"lines\" + 0.007*\"image\" + 0.005*\"time\" + 0.005*\"people\" + 0.004*\"file\" + 0.004*\"computer\" + 0.004*\"banks\" + 0.004*\"problem\" + 0.003*\"geb\" + 0.003*\"program\"'),\n",
              " (1,\n",
              "  '0.010*\"lines\" + 0.007*\"image\" + 0.006*\"time\" + 0.006*\"game\" + 0.006*\"team\" + 0.005*\"file\" + 0.004*\"program\" + 0.004*\"anyone\" + 0.003*\"david\" + 0.003*\"player\"'),\n",
              " (2,\n",
              "  '0.012*\"lines\" + 0.005*\"science\" + 0.004*\"baseball\" + 0.004*\"game\" + 0.004*\"point\" + 0.004*\"way\" + 0.003*\"number\" + 0.003*\"time\" + 0.003*\"center\" + 0.003*\"food\"')]"
            ]
          },
          "metadata": {},
          "execution_count": 14
        }
      ]
    },
    {
      "cell_type": "code",
      "source": [
        "# visualize\n",
        "import pyLDAvis\n",
        "import pyLDAvis.gensim_models\n",
        "pyLDAvis.enable_notebook()\n",
        "vis = pyLDAvis.gensim_models.prepare(model, doc_term_matrix, dictionary)\n",
        "vis"
      ],
      "metadata": {
        "colab": {
          "base_uri": "https://localhost:8080/",
          "height": 917
        },
        "id": "cJfGGKidOsjA",
        "outputId": "803aaa9d-a710-4390-9c22-124ecbc75606"
      },
      "execution_count": 17,
      "outputs": [
        {
          "output_type": "stream",
          "name": "stderr",
          "text": [
            "/usr/local/lib/python3.7/dist-packages/pyLDAvis/_prepare.py:247: FutureWarning: In a future version of pandas all arguments of DataFrame.drop except for the argument 'labels' will be keyword-only\n",
            "  by='saliency', ascending=False).head(R).drop('saliency', 1)\n"
          ]
        },
        {
          "output_type": "execute_result",
          "data": {
            "text/html": [
              "\n",
              "<link rel=\"stylesheet\" type=\"text/css\" href=\"https://cdn.jsdelivr.net/gh/bmabey/pyLDAvis@3.3.1/pyLDAvis/js/ldavis.v1.0.0.css\">\n",
              "\n",
              "\n",
              "<div id=\"ldavis_el5061403561849911843864067414\"></div>\n",
              "<script type=\"text/javascript\">\n",
              "\n",
              "var ldavis_el5061403561849911843864067414_data = {\"mdsDat\": {\"x\": [-0.01380088793086373, -0.015649022650468258, 0.02944991058133198], \"y\": [0.0229980879285123, -0.02205563626193429, -0.0009424516665780206], \"topics\": [1, 2, 3], \"cluster\": [1, 1, 1], \"Freq\": [39.924700308272094, 31.896844737115714, 28.178454954612192]}, \"tinfo\": {\"Term\": [\"science\", \"team\", \"baseball\", \"image\", \"geb\", \"banks\", \"compass\", \"cspittedu\", \"game\", \"center\", \"jpeg\", \"roger\", \"study\", \"point\", \"player\", \"gordon\", \"seizure\", \"pain\", \"color\", \"test\", \"david\", \"time\", \"chastity\", \"njxp\", \"turpin\", \"win\", \"program\", \"lady\", \"intellect\", \"food\", \"pittsburg\", \"holler\", \"haston\", \"naomi\", \"methanol\", \"mckay\", \"eastgate\", \"cscphx\", \"kaufman\", \"bitpixel\", \"miro\", \"lucas\", \"dominik\", \"hexagon\", \"inversus\", \"rahul\", \"jhwitten\", \"jurriaan\", \"hinckley\", \"webber\", \"huisman\", \"holli\", \"univesa\", \"collision\", \"rind\", \"insert\", \"souvlaki\", \"cfids\", \"gup\", \"shippert\", \"migraines\", \"migraine\", \"grafsys\", \"geb\", \"cspittedu\", \"chastity\", \"banks\", \"njxp\", \"intellect\", \"homeopath\", \"demers\", \"suck\", \"spline\", \"medicine\", \"color\", \"burzynski\", \"candida\", \"gordon\", \"function\", \"sphinx\", \"image\", \"disease\", \"people\", \"lines\", \"patient\", \"kenneth\", \"info\", \"univ\", \"thing\", \"computer\", \"inc\", \"package\", \"replyto\", \"software\", \"version\", \"file\", \"steve\", \"problem\", \"system\", \"time\", \"program\", \"day\", \"new\", \"anyone\", \"graphic\", \"research\", \"thanks\", \"something\", \"lot\", \"science\", \"game\", \"way\", \"number\", \"point\", \"vaseline\", \"seirio\", \"zalan\", \"mcmath\", \"spmarse\", \"hagins\", \"visuallib\", \"gross\", \"steinman\", \"naprosyn\", \"hathaway\", \"ultracom\", \"bockamp\", \"pvconway\", \"bebmza\", \"bunning\", \"xxxx\", \"chevron\", \"roar\", \"syracuse\", \"ringing\", \"baldschun\", \"rapp\", \"bates\", \"mahaffey\", \"rainer\", \"roell\", \"karros\", \"losing\", \"rickc\", \"kingoz\", \"marco\", \"hdf\", \"cle\", \"cview\", \"team\", \"needle\", \"prk\", \"pain\", \"globe\", \"lefebvre\", \"batter\", \"prince\", \"thomas\", \"david\", \"game\", \"time\", \"jpeg\", \"america\", \"player\", \"program\", \"image\", \"sun\", \"file\", \"anyone\", \"data\", \"league\", \"field\", \"list\", \"help\", \"lines\", \"system\", \"format\", \"use\", \"day\", \"directory\", \"version\", \"thanks\", \"run\", \"group\", \"mark\", \"lot\", \"problem\", \"thing\", \"question\", \"computer\", \"number\", \"case\", \"point\", \"people\", \"way\", \"compass\", \"compassop\", \"lars\", \"amjad\", \"archer\", \"oprows\", \"robbins\", \"algocount\", \"mtaca\", \"jhunter\", \"inflation\", \"foreskin\", \"cavalier\", \"opcols\", \"sizeof\", \"addison\", \"horan\", \"fopen\", \"projector\", \"cseunledu\", \"dxfdoc\", \"wunsch\", \"jorgensen\", \"pittance\", \"iesdaucdk\", \"aalborg\", \"soomro\", \"fry\", \"externel\", \"keeler\", \"stance\", \"zemcik\", \"luriem\", \"berg\", \"allegheny\", \"int\", \"francesa\", \"almost\", \"row\", \"lurie\", \"col\", \"canseco\", \"judgement\", \"roger\", \"outline\", \"science\", \"baseball\", \"mistake\", \"lady\", \"seizure\", \"center\", \"turpin\", \"corn\", \"study\", \"test\", \"swing\", \"point\", \"sandberg\", \"hitter\", \"lines\", \"lustig\", \"food\", \"way\", \"lee\", \"number\", \"case\", \"game\", \"research\", \"reason\", \"run\", \"world\", \"result\", \"dept\", \"question\", \"alomar\", \"lot\", \"problem\", \"fact\", \"player\", \"group\", \"season\", \"home\", \"team\", \"time\", \"people\", \"anyone\", \"thanks\", \"something\", \"computer\", \"file\", \"doctor\", \"software\"], \"Freq\": [341.0, 383.0, 291.0, 671.0, 223.0, 250.0, 40.0, 172.0, 508.0, 238.0, 215.0, 99.0, 189.0, 358.0, 282.0, 192.0, 65.0, 137.0, 238.0, 115.0, 284.0, 591.0, 72.0, 72.0, 42.0, 89.0, 398.0, 42.0, 73.0, 276.0, 22.931770681982382, 6.545444838820865, 8.752786714681271, 7.127386506623537, 15.683214000512129, 3.878905682969685, 8.532555248118276, 3.8703848184105105, 4.630785316576322, 5.350015901675753, 3.780181773551788, 9.055612648984898, 5.248456697044168, 4.492305931930722, 2.991291908102022, 2.990588968873572, 2.9898487606703004, 2.9875245318768906, 2.9871564784604723, 2.9871448876309823, 2.9810591671874134, 2.981180603416377, 2.977981534477159, 3.7085829016266554, 31.126656892427608, 5.899519295747482, 6.6462993210194625, 2.9485497435954473, 2.926464755405808, 5.109583580836818, 4.384880341013608, 40.77636125164788, 12.981629169256134, 169.26725264790502, 131.20265475900982, 56.221894059280615, 180.51676823007836, 54.76422563637378, 54.67100255631134, 7.248958259131965, 19.89812178155376, 13.255841803560491, 12.539231815848504, 89.43684894581173, 156.506401319082, 13.812989082200142, 58.57144435711421, 122.40019795187563, 57.31780877075707, 14.686610942668935, 351.9596787756319, 130.5181552920349, 227.88523151061446, 668.6972048129679, 126.30863992151289, 32.048448100411065, 87.10872563369365, 83.09191618450289, 165.51887111750088, 187.310532146764, 95.66658384090888, 103.83516136489834, 93.26066716094535, 140.5036441983736, 136.37866128228293, 209.01204576714994, 116.98527055192906, 179.80760633107613, 152.13560437086, 228.9071760447726, 168.84108673547416, 139.5915907137253, 112.73477286145796, 148.64175602949086, 108.50608447575507, 116.26512981923399, 124.44292294427021, 108.21940224876501, 119.16354191414693, 121.63706629764108, 137.79366404015784, 120.65383299413384, 116.80382307076206, 114.27421761786388, 4.601616710767295, 6.113191515021952, 3.7501520211756185, 5.212296138851149, 5.9564142586881905, 3.6876496299540427, 3.681754441318075, 5.836062372833987, 5.834944879850407, 4.369157370338815, 2.9020577610849023, 2.8989622884246247, 4.33696006675965, 2.886262131678807, 2.875606913011304, 12.915123417520768, 13.580158821249062, 2.852089127857892, 3.543344017012496, 3.5373801603987003, 9.18668073479617, 4.207079857890687, 2.7888162876236695, 9.059288244244298, 4.870572369088108, 2.763838524385642, 2.7609527597406407, 3.451787093147217, 11.670149615284961, 4.110642378870962, 6.771307693963594, 8.010219908812182, 6.692997136443705, 7.948710496440115, 39.49425581059447, 215.80858556026428, 20.52068834664862, 11.294168217678537, 77.14348226730623, 6.004442522915156, 11.145085194013971, 18.54226418013549, 21.448525504195086, 36.497298049362705, 134.1831688840288, 219.49083948276547, 247.69932109487982, 103.06784241250796, 26.16882498457543, 126.89593388378589, 168.50349030624054, 258.15911924536414, 44.656642581527265, 187.5448869159536, 155.43693034847072, 108.83725638687814, 73.05728967755331, 54.48830140207975, 61.50925737049029, 83.12186572002959, 395.66027011161896, 122.82896604838996, 95.67769548320305, 83.44922904961608, 112.94725995410474, 43.081735386800354, 97.95812426549885, 105.22313933386222, 92.2578318765118, 79.73455244440517, 71.15174588465364, 99.60286422931286, 116.62286704429565, 101.0664438211473, 88.98472740955495, 108.37230636379063, 100.0422754632356, 85.97889124919817, 100.47937079125049, 106.22384774728235, 96.6919619756978, 37.457809809426706, 14.28691815862395, 5.747146391076678, 4.84507887939247, 3.932609806925841, 5.464901953527557, 4.666011339977385, 5.3312329742265945, 3.0186050298314373, 3.0143435187105996, 3.7621395452622166, 4.513019315035416, 2.9836034996550715, 3.705709636957266, 2.8950451201184237, 4.320388440402657, 4.321893687685741, 2.8693950016166148, 5.722269033303809, 3.5748482710669256, 2.120697840403887, 2.1206620970737537, 2.1177215788862975, 2.1175458827987406, 2.11698355463312, 2.1168670112397976, 2.1165657100695885, 4.932198967461636, 2.116183860549783, 2.1154511222820473, 13.875007994748811, 3.519743886540022, 10.356097280199927, 10.982246923768631, 10.943718634447903, 21.401775022421404, 4.838504120356658, 3.4822717874533766, 22.608334929240463, 14.327172196334782, 22.723986249591064, 17.079262622725327, 8.593058024795628, 59.91306260025909, 12.00513645642035, 175.23185519922336, 151.71563565717628, 22.296703433195443, 26.925998318290834, 39.319314387940835, 112.91775101034816, 25.650966273188562, 22.699845909217004, 88.2307128779067, 58.19367752977296, 18.119905011628106, 143.71549302690585, 24.71539719262563, 53.686365065306454, 404.4851042416472, 18.539082650345588, 105.60369505743553, 123.9056574625303, 33.65351528540318, 116.1119038684309, 91.13612406719099, 151.44048249495475, 92.45634373641688, 56.15369391822299, 87.66729328214934, 90.48335218722629, 56.981859829434, 62.30980290700676, 85.61190077132157, 45.80272756789236, 89.59347013055448, 105.14072730845993, 56.31960338130431, 82.87184728892385, 69.26396883392238, 67.98277484007598, 60.102604949112006, 92.89287551705492, 115.35624758152663, 93.72285376613185, 87.9984678215152, 79.29423595775216, 68.49121213239879, 77.01222066533474, 74.419482059514, 64.75491652510459, 64.81925049192729], \"Total\": [341.0, 383.0, 291.0, 671.0, 223.0, 250.0, 40.0, 172.0, 508.0, 238.0, 215.0, 99.0, 189.0, 358.0, 282.0, 192.0, 65.0, 137.0, 238.0, 115.0, 284.0, 591.0, 72.0, 72.0, 42.0, 89.0, 398.0, 42.0, 73.0, 276.0, 25.171518548388793, 7.190434526745145, 9.873362133998185, 8.079128871977879, 17.968712458943475, 4.491818585017002, 9.888585129058507, 4.491850113876055, 5.391609969744126, 6.284151093255662, 4.488890148035478, 10.771978154696358, 6.295844209131062, 5.394754314414587, 3.592506945415007, 3.592479656899703, 3.5924951978549076, 3.592470762136936, 3.5924501506018607, 3.5924530579969, 3.592420201237888, 3.592602151667016, 3.592377860915384, 4.4888584482677985, 37.75269223319716, 7.180805490145579, 8.09390889173817, 3.5912538513024956, 3.590592656646351, 6.273870803490822, 5.391166060670083, 51.93005353223911, 16.15719840473958, 223.2146862418021, 172.69429511732847, 72.89955719662763, 250.29567671644077, 72.94115834107413, 73.82698594108206, 9.001572922707657, 26.04851973834187, 16.999805934022145, 16.141294830073566, 130.01061720823202, 238.7875982455741, 17.936106218092164, 85.13278276168414, 192.48842646557227, 86.74017916391371, 19.651948909651445, 671.0200881853668, 227.47255517218866, 427.8319330240287, 1468.842579166234, 221.95295579567232, 47.368139847016444, 150.34793903847475, 142.42026940327065, 319.5557904372462, 372.69505917588936, 169.73038374509386, 193.17751292262656, 170.44136290140236, 282.6522967897595, 275.4325494844804, 470.9764147426176, 231.1175416906662, 401.5712006838317, 327.8835513579509, 591.9627447211791, 398.5423092971053, 309.3459165512222, 234.64085208744964, 392.0771541994768, 232.32261257108752, 263.01145499945756, 308.9602982358846, 243.4469306509502, 308.35987627401425, 341.6735313186489, 508.724986017878, 341.25145243236193, 332.9580024024286, 358.46908143602025, 5.26014390038353, 7.012468331026063, 4.386469909026446, 6.1403124865036105, 7.017280493739087, 4.389160059115309, 4.3883099289236664, 7.027444590103074, 7.02736501468305, 5.268895601984833, 3.512705007614868, 3.5128215767766435, 5.267730020698563, 3.5133555730009953, 3.5138443375594806, 15.817058539536612, 16.707628342755893, 3.514765260030552, 4.392752518799375, 4.392727666204263, 11.417080768163867, 5.276303846346011, 3.5161479006358913, 11.425393082198937, 6.157203902647929, 3.516967563243649, 3.517052057962704, 4.39916136766012, 14.962359739205517, 5.276203016966414, 8.796510409206089, 10.565447593222533, 8.807030598172302, 10.560699938976406, 59.13693672068377, 383.9945193805703, 30.021420152345666, 15.854167283601269, 137.40820611664563, 7.917538729174499, 15.89097331075182, 28.255465443090944, 33.59441264187355, 62.91494910062423, 284.29703827900346, 508.724986017878, 591.9627447211791, 215.58778828027113, 43.38940174733637, 282.2578302503362, 398.5423092971053, 671.0200881853668, 83.33443940458629, 470.9764147426176, 392.0771541994768, 263.6462490972893, 160.26784699317773, 111.99994820748898, 132.58298173645767, 197.6308832911939, 1468.842579166234, 327.8835513579509, 238.60587481814204, 202.22616005539717, 309.3459165512222, 86.08408967942157, 275.4325494844804, 308.9602982358846, 257.29353111138687, 214.27721702737827, 181.85144222620633, 308.35987627401425, 401.5712006838317, 319.5557904372462, 264.56370800276596, 372.69505917588936, 332.9580024024286, 255.7295816620533, 358.46908143602025, 427.8319330240287, 341.25145243236193, 40.01099830573131, 15.450634185598883, 6.357715118020938, 5.447292828467463, 4.53658147334747, 6.351522260995525, 5.443327238210716, 6.3494431558665125, 3.625812842032962, 3.625727568491338, 4.532360373483932, 5.437083198350811, 3.6242989419562335, 4.53187246934151, 3.6233342110983457, 5.430369369647432, 5.438022136019397, 3.622874250142507, 7.242167155753172, 4.530820427051397, 2.715481074315562, 2.7154800605079883, 2.715392936392316, 2.7154118809406227, 2.715396533345216, 2.715362951353371, 2.71537210175675, 6.32848946768555, 2.7153426316247256, 2.715329389653909, 18.06312900657752, 4.530478614464474, 13.576795106699969, 14.474746078040116, 14.464026414313533, 28.91708517194142, 6.332325364485473, 4.522159438787836, 31.65398411123886, 19.848282206856386, 32.59159508722382, 24.375671792550946, 11.753180778542054, 99.00238546586658, 17.16293500747973, 341.6735313186489, 291.84982096839633, 34.29208289308041, 42.526670374575474, 65.58716423142039, 238.2866151510994, 42.55778073693267, 36.932956967642724, 189.0138200193794, 115.1592610314633, 28.86601157531435, 358.46908143602025, 42.346564199995996, 112.18584445937933, 1468.842579166234, 29.733040878901107, 276.75415739465154, 341.25145243236193, 63.97335296816711, 332.9580024024286, 255.7295816620533, 508.724986017878, 263.01145499945756, 135.42794209732662, 257.29353111138687, 281.07587136763897, 143.15698182815632, 164.15131579481834, 264.56370800276596, 104.28577307045873, 308.35987627401425, 401.5712006838317, 147.87485998734945, 282.2578302503362, 214.27721702737827, 208.18783569807687, 169.47993225805396, 383.9945193805703, 591.9627447211791, 427.8319330240287, 392.0771541994768, 308.9602982358846, 243.4469306509502, 372.69505917588936, 470.9764147426176, 213.19267106897382, 282.6522967897595], \"Category\": [\"Default\", \"Default\", \"Default\", \"Default\", \"Default\", \"Default\", \"Default\", \"Default\", \"Default\", \"Default\", \"Default\", \"Default\", \"Default\", \"Default\", \"Default\", \"Default\", \"Default\", \"Default\", \"Default\", \"Default\", \"Default\", \"Default\", \"Default\", \"Default\", \"Default\", \"Default\", \"Default\", \"Default\", \"Default\", \"Default\", \"Topic1\", \"Topic1\", \"Topic1\", \"Topic1\", \"Topic1\", \"Topic1\", \"Topic1\", \"Topic1\", \"Topic1\", \"Topic1\", \"Topic1\", \"Topic1\", \"Topic1\", \"Topic1\", \"Topic1\", \"Topic1\", \"Topic1\", \"Topic1\", \"Topic1\", \"Topic1\", \"Topic1\", \"Topic1\", \"Topic1\", \"Topic1\", \"Topic1\", \"Topic1\", \"Topic1\", \"Topic1\", \"Topic1\", \"Topic1\", \"Topic1\", \"Topic1\", \"Topic1\", \"Topic1\", \"Topic1\", \"Topic1\", \"Topic1\", \"Topic1\", \"Topic1\", \"Topic1\", \"Topic1\", \"Topic1\", \"Topic1\", \"Topic1\", \"Topic1\", \"Topic1\", \"Topic1\", \"Topic1\", \"Topic1\", \"Topic1\", \"Topic1\", \"Topic1\", \"Topic1\", \"Topic1\", \"Topic1\", \"Topic1\", \"Topic1\", \"Topic1\", \"Topic1\", \"Topic1\", \"Topic1\", \"Topic1\", \"Topic1\", \"Topic1\", \"Topic1\", \"Topic1\", \"Topic1\", \"Topic1\", \"Topic1\", \"Topic1\", \"Topic1\", \"Topic1\", \"Topic1\", \"Topic1\", \"Topic1\", \"Topic1\", \"Topic1\", \"Topic1\", \"Topic1\", \"Topic1\", \"Topic1\", \"Topic1\", \"Topic1\", \"Topic1\", \"Topic2\", \"Topic2\", \"Topic2\", \"Topic2\", \"Topic2\", \"Topic2\", \"Topic2\", \"Topic2\", \"Topic2\", \"Topic2\", \"Topic2\", \"Topic2\", \"Topic2\", \"Topic2\", \"Topic2\", \"Topic2\", \"Topic2\", \"Topic2\", \"Topic2\", \"Topic2\", \"Topic2\", \"Topic2\", \"Topic2\", \"Topic2\", \"Topic2\", \"Topic2\", \"Topic2\", \"Topic2\", \"Topic2\", \"Topic2\", \"Topic2\", \"Topic2\", \"Topic2\", \"Topic2\", \"Topic2\", \"Topic2\", \"Topic2\", \"Topic2\", \"Topic2\", \"Topic2\", \"Topic2\", \"Topic2\", \"Topic2\", \"Topic2\", \"Topic2\", \"Topic2\", \"Topic2\", \"Topic2\", \"Topic2\", \"Topic2\", \"Topic2\", \"Topic2\", \"Topic2\", \"Topic2\", \"Topic2\", \"Topic2\", \"Topic2\", \"Topic2\", \"Topic2\", \"Topic2\", \"Topic2\", \"Topic2\", \"Topic2\", \"Topic2\", \"Topic2\", \"Topic2\", \"Topic2\", \"Topic2\", \"Topic2\", \"Topic2\", \"Topic2\", \"Topic2\", \"Topic2\", \"Topic2\", \"Topic2\", \"Topic2\", \"Topic2\", \"Topic2\", \"Topic2\", \"Topic2\", \"Topic2\", \"Topic3\", \"Topic3\", \"Topic3\", \"Topic3\", \"Topic3\", \"Topic3\", \"Topic3\", \"Topic3\", \"Topic3\", \"Topic3\", \"Topic3\", \"Topic3\", \"Topic3\", \"Topic3\", \"Topic3\", \"Topic3\", \"Topic3\", \"Topic3\", \"Topic3\", \"Topic3\", \"Topic3\", \"Topic3\", \"Topic3\", \"Topic3\", \"Topic3\", \"Topic3\", \"Topic3\", \"Topic3\", \"Topic3\", \"Topic3\", \"Topic3\", \"Topic3\", \"Topic3\", \"Topic3\", \"Topic3\", \"Topic3\", \"Topic3\", \"Topic3\", \"Topic3\", \"Topic3\", \"Topic3\", \"Topic3\", \"Topic3\", \"Topic3\", \"Topic3\", \"Topic3\", \"Topic3\", \"Topic3\", \"Topic3\", \"Topic3\", \"Topic3\", \"Topic3\", \"Topic3\", \"Topic3\", \"Topic3\", \"Topic3\", \"Topic3\", \"Topic3\", \"Topic3\", \"Topic3\", \"Topic3\", \"Topic3\", \"Topic3\", \"Topic3\", \"Topic3\", \"Topic3\", \"Topic3\", \"Topic3\", \"Topic3\", \"Topic3\", \"Topic3\", \"Topic3\", \"Topic3\", \"Topic3\", \"Topic3\", \"Topic3\", \"Topic3\", \"Topic3\", \"Topic3\", \"Topic3\", \"Topic3\", \"Topic3\", \"Topic3\", \"Topic3\", \"Topic3\", \"Topic3\", \"Topic3\", \"Topic3\", \"Topic3\", \"Topic3\", \"Topic3\", \"Topic3\"], \"logprob\": [30.0, 29.0, 28.0, 27.0, 26.0, 25.0, 24.0, 23.0, 22.0, 21.0, 20.0, 19.0, 18.0, 17.0, 16.0, 15.0, 14.0, 13.0, 12.0, 11.0, 10.0, 9.0, 8.0, 7.0, 6.0, 5.0, 4.0, 3.0, 2.0, 1.0, -7.6674, -8.9211, -8.6305, -8.836, -8.0473, -9.4444, -8.656, -9.4466, -9.2672, -9.1228, -9.4701, -8.5965, -9.142, -9.2975, -9.7042, -9.7044, -9.7047, -9.7055, -9.7056, -9.7056, -9.7076, -9.7076, -9.7087, -9.4893, -7.3618, -9.025, -8.9058, -9.7186, -9.7261, -9.1688, -9.3217, -7.0918, -8.2364, -5.6684, -5.9232, -6.7706, -5.6041, -6.7969, -6.7986, -8.8191, -7.8093, -8.2155, -8.271, -6.3064, -5.7468, -8.1743, -6.7297, -5.9926, -6.7513, -8.113, -4.9364, -5.9284, -5.3711, -4.2946, -5.9612, -7.3327, -6.3328, -6.38, -5.6908, -5.5671, -6.239, -6.1571, -6.2645, -5.8547, -5.8845, -5.4575, -6.0379, -5.608, -5.7751, -5.3666, -5.671, -5.8612, -6.0749, -5.7984, -6.1131, -6.044, -5.9761, -6.1157, -6.0194, -5.9989, -5.8742, -6.007, -6.0394, -6.0613, -9.049, -8.765, -9.2536, -8.9244, -8.791, -9.2704, -9.272, -8.8114, -8.8116, -9.1009, -9.51, -9.5111, -9.1082, -9.5155, -9.5192, -8.017, -7.9668, -9.5274, -9.3104, -9.312, -8.3577, -9.1387, -9.5498, -8.3716, -8.9922, -9.5588, -9.5598, -9.3365, -8.1184, -9.1618, -8.6627, -8.4947, -8.6744, -8.5024, -6.8993, -5.201, -7.554, -8.1511, -6.2298, -8.7829, -8.1644, -7.6554, -7.5098, -6.9782, -5.6762, -5.1841, -5.0632, -5.94, -7.3109, -5.7321, -5.4485, -5.0218, -6.7764, -5.3414, -5.5292, -5.8856, -6.2842, -6.5774, -6.4562, -6.1551, -4.5949, -5.7646, -6.0144, -6.1512, -5.8485, -6.8123, -5.9909, -5.9193, -6.0508, -6.1967, -6.3106, -5.9742, -5.8165, -5.9596, -6.087, -5.8898, -5.9698, -6.1213, -5.9655, -5.9099, -6.0039, -6.8283, -7.7921, -8.7028, -8.8735, -9.0822, -8.7531, -8.9112, -8.7779, -9.3467, -9.3481, -9.1265, -8.9445, -9.3583, -9.1416, -9.3885, -8.9881, -8.9878, -9.3974, -8.7071, -9.1775, -9.6997, -9.6997, -9.7011, -9.7012, -9.7015, -9.7015, -9.7017, -8.8557, -9.7019, -9.7022, -7.8214, -9.1931, -8.1139, -8.0552, -8.0587, -7.388, -8.8749, -9.2038, -7.3332, -7.7893, -7.3281, -7.6136, -8.3005, -6.3586, -7.9661, -5.2854, -5.4295, -7.347, -7.1584, -6.7798, -5.7248, -7.2069, -7.3291, -5.9715, -6.3877, -7.5545, -5.4836, -7.244, -6.4683, -4.4489, -7.5316, -5.7918, -5.632, -6.9354, -5.6969, -5.9391, -5.4313, -5.9247, -6.4234, -5.9779, -5.9463, -6.4087, -6.3194, -6.0016, -6.6271, -5.9562, -5.7962, -6.4204, -6.0342, -6.2135, -6.2322, -6.3554, -5.92, -5.7034, -5.9111, -5.9742, -6.0783, -6.2248, -6.1075, -6.1418, -6.2809, -6.2799], \"loglift\": [30.0, 29.0, 28.0, 27.0, 26.0, 25.0, 24.0, 23.0, 22.0, 21.0, 20.0, 19.0, 18.0, 17.0, 16.0, 15.0, 14.0, 13.0, 12.0, 11.0, 10.0, 9.0, 8.0, 7.0, 6.0, 5.0, 4.0, 3.0, 2.0, 1.0, 0.825, 0.8242, 0.7977, 0.7928, 0.7821, 0.7715, 0.7707, 0.7693, 0.7661, 0.7572, 0.7463, 0.7446, 0.7362, 0.7351, 0.735, 0.7348, 0.7346, 0.7338, 0.7337, 0.7337, 0.7316, 0.7316, 0.7306, 0.7272, 0.7252, 0.7216, 0.7211, 0.721, 0.7137, 0.7129, 0.7116, 0.6764, 0.6993, 0.6415, 0.6434, 0.6584, 0.5914, 0.6316, 0.6178, 0.7016, 0.6488, 0.6694, 0.6657, 0.5441, 0.4957, 0.657, 0.5442, 0.4654, 0.5039, 0.6269, 0.2729, 0.3627, 0.2883, 0.1313, 0.3544, 0.5275, 0.3724, 0.3793, 0.2603, 0.2302, 0.3448, 0.2974, 0.3152, 0.2192, 0.2153, 0.1058, 0.2373, 0.1147, 0.1503, -0.032, 0.0593, 0.1224, 0.1852, -0.0517, 0.1569, 0.1019, 0.0088, 0.1074, -0.0326, -0.1146, -0.388, -0.1215, -0.1293, -0.2251, 1.0089, 1.0054, 0.9859, 0.9788, 0.9788, 0.9685, 0.9671, 0.9569, 0.9567, 0.9554, 0.9517, 0.9506, 0.9482, 0.9461, 0.9422, 0.94, 0.9354, 0.9337, 0.9278, 0.9261, 0.9253, 0.9162, 0.9109, 0.9106, 0.9083, 0.9017, 0.9006, 0.9001, 0.8942, 0.893, 0.881, 0.8658, 0.8682, 0.8585, 0.739, 0.5664, 0.7622, 0.8035, 0.5654, 0.8661, 0.7879, 0.7214, 0.694, 0.5981, 0.3918, 0.3021, 0.2714, 0.4047, 0.637, 0.3432, 0.2818, 0.1874, 0.5188, 0.2219, 0.2174, 0.2579, 0.3571, 0.4222, 0.3746, 0.2766, -0.169, 0.1608, 0.2288, 0.2575, 0.1351, 0.4504, 0.1089, 0.0655, 0.117, 0.1541, 0.2043, 0.0126, -0.0938, -0.0085, 0.053, -0.0925, -0.0598, 0.0526, -0.1292, -0.2505, -0.1184, 1.2007, 1.1883, 1.1656, 1.1495, 1.1237, 1.1163, 1.1125, 1.0918, 1.0833, 1.0819, 1.0804, 1.0803, 1.0721, 1.0654, 1.0422, 1.038, 1.0369, 1.0334, 1.0311, 1.0296, 1.0194, 1.0194, 1.018, 1.0179, 1.0177, 1.0176, 1.0175, 1.0173, 1.0173, 1.017, 1.0028, 1.0142, 0.9958, 0.9905, 0.9877, 0.9657, 0.9976, 1.0053, 0.9301, 0.9407, 0.906, 0.9109, 0.9534, 0.7644, 0.9092, 0.5989, 0.6124, 0.8361, 0.8096, 0.7549, 0.5198, 0.7603, 0.7799, 0.5047, 0.5841, 0.801, 0.3526, 0.7282, 0.5296, -0.023, 0.7942, 0.3032, 0.2535, 0.6243, 0.2132, 0.2348, 0.0549, 0.2212, 0.3863, 0.1899, 0.1332, 0.3454, 0.2979, 0.1384, 0.4438, 0.0306, -0.0735, 0.3013, 0.0411, 0.1373, 0.1474, 0.2299, -0.1526, -0.3688, -0.2518, -0.2275, -0.0934, -0.0016, -0.3102, -0.5785, 0.075, -0.206]}, \"token.table\": {\"Topic\": [3, 2, 3, 1, 3, 1, 2, 3, 2, 3, 1, 2, 3, 1, 2, 3, 3, 1, 2, 3, 3, 2, 3, 1, 2, 3, 1, 2, 3, 1, 2, 3, 1, 2, 3, 2, 1, 2, 3, 1, 2, 1, 2, 1, 2, 3, 1, 2, 3, 1, 2, 3, 1, 2, 3, 1, 2, 3, 3, 1, 2, 3, 1, 1, 2, 3, 2, 1, 2, 3, 1, 2, 3, 1, 1, 2, 3, 1, 2, 3, 1, 2, 3, 1, 2, 3, 1, 2, 3, 1, 1, 3, 1, 2, 3, 1, 2, 3, 1, 2, 3, 1, 2, 3, 1, 2, 3, 1, 2, 3, 1, 2, 3, 1, 2, 3, 1, 2, 3, 1, 2, 3, 1, 3, 3, 1, 2, 3, 3, 1, 2, 3, 1, 2, 3, 1, 2, 3, 1, 2, 3, 3, 3, 1, 2, 3, 1, 2, 3, 2, 3, 1, 2, 3, 1, 2, 3, 1, 2, 3, 1, 2, 3, 1, 2, 3, 1, 2, 3, 1, 2, 3, 2, 3, 1, 2, 3, 1, 2, 1, 2, 2, 1, 2, 3, 1, 2, 3, 1, 3, 1, 1, 2, 3, 1, 1, 1, 2, 3, 1, 3, 1, 3, 1, 3, 1, 2, 3, 1, 2, 3, 3, 1, 2, 3, 1, 2, 3, 1, 2, 3, 1, 2, 3, 1, 3, 1, 3, 1, 2, 3, 1, 2, 3, 1, 2, 3, 1, 3, 1, 2, 3, 1, 2, 3, 1, 2, 3, 3, 1, 2, 3, 1, 2, 3, 1, 2, 3, 1, 2, 3, 1, 2, 3, 1, 2, 3, 1, 2, 3, 1, 2, 3, 1, 2, 3, 1, 2, 3, 1, 2, 3, 2, 3, 1, 2, 3, 1, 2, 3, 1, 1, 2, 1, 2, 3, 1, 2, 3, 1, 2, 3, 1, 3, 1, 1, 2, 3, 3, 1, 2, 2, 1, 2, 3, 1, 2, 3, 1, 2, 3, 1, 2, 3, 3, 3, 1, 2, 3, 1, 2, 3, 1, 2, 3, 1, 2, 3, 1, 2, 3, 3, 1, 2, 3, 1, 2, 3, 1, 2, 3, 1, 2, 3, 1, 2, 3, 1, 2, 3, 1, 2, 3, 1, 2, 3, 2, 1, 2, 3, 1, 2, 2, 1, 2, 3, 1, 2, 3, 1, 2, 3, 1, 2, 3, 1, 2, 1, 2, 3, 1, 2, 1, 2, 3, 2, 1, 2, 3, 1, 2, 3, 1, 2, 3, 1, 2, 3, 1, 2, 3, 1, 2, 3, 1, 2, 1, 2, 3, 1, 2, 3, 1, 2, 3, 1, 2, 3, 3, 1, 3, 1, 2, 1, 2, 3, 1, 2, 1, 2, 3, 2, 3, 1, 2, 3, 1, 2, 3, 1, 2, 3, 1, 2, 3, 1, 2, 3, 1, 2, 1, 2, 3, 1, 2, 3, 1, 2, 3, 1, 2, 3, 1, 2, 3, 1, 2, 3, 1, 2, 3, 1, 2, 3, 2, 1, 2, 3, 1, 1, 2, 3, 2, 1, 2, 3, 2, 1, 2, 3, 1, 1, 2, 3, 1, 2, 3, 3, 2, 3, 2, 1, 3], \"Freq\": [0.7365497857305503, 0.18414953604987006, 0.7365981441994802, 0.15749412593387166, 0.7874706296693583, 0.13827408376555572, 0.13827408376555572, 0.7605074607105564, 0.22113329119329989, 0.6633998735798996, 0.36438335624482554, 0.19178071381306608, 0.441095641770052, 0.184376821938807, 0.5992246713011228, 0.23047102742350875, 0.9178871335629475, 0.38002724311805575, 0.3953303535791855, 0.22444562009656982, 0.8817211866468398, 0.7581064541554241, 0.18952661353885603, 0.7231447317608061, 0.055933846655531964, 0.22373538662212786, 0.21929086606131717, 0.26040790344781417, 0.5208158068956283, 0.17504868196754234, 0.7877190688539405, 0.08752434098377117, 0.21234829814021436, 0.6724362774440121, 0.10617414907010718, 0.8537657652995613, 0.1381716811622854, 0.1381716811622854, 0.7599442463925697, 0.795652416022611, 0.1591304832045222, 0.18983508951117206, 0.7593403580446882, 0.0632228803794575, 0.8218974449329475, 0.126445760758915, 0.7805484551534485, 0.11150692216477835, 0.11150692216477835, 0.6930350223034673, 0.17619534465342387, 0.1409562757227391, 0.12307353108178874, 0.164098041442385, 0.6974166761301362, 0.30892006895157914, 0.33629273328906084, 0.35584463638726205, 0.8277462891570239, 0.3273368919632334, 0.2014380873619898, 0.4742188306646843, 0.8353628354375293, 0.7681802490096687, 0.054870017786404914, 0.17832755780581597, 0.8535420655585753, 0.18938138679791425, 0.757525547191657, 0.09469069339895712, 0.24546205788915396, 0.06136551447228849, 0.7057034164313176, 0.8910951517180401, 0.657488082101056, 0.230330219844319, 0.11307119883266568, 0.04998625589688206, 0.02499312794844103, 0.9247457340923181, 0.06472226239956369, 0.06472226239956369, 0.9061116735938917, 0.5017506816792744, 0.2897811423602227, 0.20660322186793653, 0.18953261733504737, 0.18953261733504737, 0.6227500283865842, 0.8905016638118334, 0.2207105790442434, 0.8828423161769736, 0.7585658803088928, 0.06948695086799019, 0.17371737716997546, 0.2198287689705969, 0.6594863069117907, 0.1183693371380137, 0.35653835517042626, 0.41343277354868574, 0.22757767351303804, 0.36229712635598355, 0.4713380090456485, 0.16883749577754573, 0.4525677971146533, 0.36528686481397016, 0.18425974596810885, 0.7677979478642386, 0.11516969217963578, 0.1535595895728477, 0.3777002925611463, 0.24367760810396533, 0.3777002925611463, 0.34849645401049656, 0.49951158408171176, 0.15101513007121517, 0.5758936496793543, 0.22420287124921426, 0.2022221975973305, 0.4409157197040247, 0.2579826019544825, 0.3048885295825703, 0.7941746704513974, 0.1588349340902795, 0.7365177459408737, 0.9101403165911655, 0.10112670184346283, 0.10112670184346283, 0.7365552975549534, 0.3516486846002664, 0.27049898815405105, 0.3786985834156715, 0.2678572667232182, 0.48214308010179274, 0.25000011560833696, 0.44375895152672507, 0.3991707315168628, 0.15712039432046726, 0.3251983668366722, 0.29267853015300493, 0.3830114098298583, 0.8280717995889573, 0.9196107209682964, 0.4316741994659745, 0.4023371179488695, 0.16344945416672824, 0.1579198702594231, 0.1579198702594231, 0.7895993512971156, 0.1580155904669174, 0.790077952334587, 0.6571349119799094, 0.23057365332628396, 0.10375814399682778, 0.2712664087530198, 0.4304879964993576, 0.29682049073699995, 0.7571186414541161, 0.05375990353520352, 0.1881596623732123, 0.12630187665709874, 0.7578112599425926, 0.12630187665709874, 0.6338043395134743, 0.10390235073991382, 0.2597558768497846, 0.8045949349849264, 0.12378383615152713, 0.12378383615152713, 0.4691751646286584, 0.3056095109049059, 0.2281310433515495, 0.8537954192410069, 0.14229923654016782, 0.3033453621515671, 0.37334813803269795, 0.322012769053202, 0.8355166644834698, 0.9113360975963705, 0.9115435935454218, 0.10128262150504687, 0.8540426803550477, 0.11354564842860057, 0.794819539000204, 0.11354564842860057, 0.3744354058822208, 0.4199748471381666, 0.20745745461041964, 0.7414610132128068, 0.1853652533032017, 0.8350846564975705, 0.2584996363823818, 0.26741341694729154, 0.48134415050512475, 0.9735155746100163, 0.8350493245148114, 0.4012274438277546, 0.2419165470137932, 0.3540242151421364, 0.777641869938261, 0.11109169570546586, 0.18389038789974377, 0.7355615515989751, 0.8350916184488246, 0.7365406766341093, 0.5245744593904934, 0.38448923443962296, 0.09090636938301164, 0.565602916117692, 0.282801458058846, 0.15318412311520826, 0.8825423555023455, 0.5786577491942626, 0.23944458587348796, 0.17958343940511598, 0.8355608584905926, 0.13926014308176543, 0.13926014308176543, 0.10374489621488318, 0.1383265282865109, 0.7262142735041823, 0.7449850389922864, 0.054180730108529924, 0.2031777379069872, 0.8350714544418061, 0.8274201366012442, 0.8350741851488935, 0.7365416522947906, 0.4545712017444922, 0.4777636099967622, 0.06957722475681004, 0.17016670105606033, 0.08508335052803016, 0.7657501547522714, 0.8350798652611686, 0.68194815995024, 0.22731605331674667, 0.9273667843294104, 0.7365588895478042, 0.6755595660574704, 0.23222360083225543, 0.0844449457571838, 0.11368144337707353, 0.7957701036395147, 0.11368144337707353, 0.3056905204544778, 0.07054396625872565, 0.6348956963285308, 0.9437352710241774, 0.23710307908246614, 0.4554874940268428, 0.3057381809221274, 0.3126301666562939, 0.15631508332814695, 0.5314712833156997, 0.06292880747105659, 0.6922168821816225, 0.18878642241316979, 0.45546065282213405, 0.2696000276794695, 0.27504649288511535, 0.26398561520943453, 0.46763166122814115, 0.2790705075071165, 0.06683437756009325, 0.8020125307211191, 0.1336687551201865, 0.3859127245668448, 0.32429640719902925, 0.2918667664791263, 0.8355011373724507, 0.09283345970805008, 0.09283345970805008, 0.10076438752513911, 0.20152877505027822, 0.7053507126759737, 0.14731017035184, 0.07365508517592, 0.7365508517592, 0.16816308901482238, 0.20179570681778689, 0.6390197382563251, 0.8120569139913868, 0.16241138279827735, 0.09464814350520036, 0.7571851480416029, 0.09464814350520036, 0.3629336077406641, 0.3904285780240477, 0.24195573849377602, 0.8905079143985196, 0.16285816107860915, 0.8142908053930457, 0.684559476073041, 0.1615252696352119, 0.1461419106223346, 0.8904366429458, 0.0556522901841125, 0.0556522901841125, 0.7895235458316342, 0.1733100466459685, 0.038513343699104106, 0.7419545150317312, 0.1854886287579328, 0.8910888589578349, 0.20412874953747667, 0.1458062496696262, 0.6415474985463553, 0.8274006769521854, 0.8664300459767645, 0.12377572085382352, 0.7591723773181556, 0.1332382005815094, 0.6995005530529242, 0.19985730087226408, 0.4815870680434001, 0.2514481151731027, 0.268495445015347, 0.7540324454791222, 0.0411290424806794, 0.20564521240339698, 0.35139566899067454, 0.3003381786245081, 0.34839228720442944, 0.8826373705483395, 0.7872128593022218, 0.17479527823723495, 0.11653018549148997, 0.6991811129489398, 0.5383649392031211, 0.2640058836476844, 0.19671026624729426, 0.2256051576256235, 0.5603741011991293, 0.21104998616590584, 0.5676878667747698, 0.2387893407862127, 0.18922928892492327, 0.5329195471418788, 0.247760842092277, 0.21971244487428337, 0.7365365136824831, 0.9137311265423123, 0.039727440284448357, 0.039727440284448357, 0.25508592599944085, 0.44994323058234703, 0.29405738691602207, 0.31801905911471695, 0.27896408694273417, 0.40170828519753715, 0.17860112822813093, 0.6251039487984582, 0.17860112822813093, 0.2522995959641093, 0.6938238889013005, 0.06307489899102732, 0.4482393152035797, 0.2913555548823268, 0.2614729338687548, 0.4240453172915548, 0.4240453172915548, 0.1530577772472476, 0.1380802152855034, 0.1380802152855034, 0.8284812917130205, 0.8538845379198259, 0.34018271319004595, 0.3364029052657121, 0.3250634814927106, 0.8350777976538325, 0.853007582826025, 0.8532064306673373, 0.32489602454697986, 0.2584400195260067, 0.4135040312416108, 0.5456421986827167, 0.19361497372612527, 0.26402041871744353, 0.44104542899182564, 0.20531425142722917, 0.34979465057972375, 0.2724282078453922, 0.33529625580971345, 0.3981643037740347, 0.18953023543338868, 0.7581209417335547, 0.8211334918451378, 0.05297635431258954, 0.10595270862517908, 0.17517612782217767, 0.7882925751997996, 0.22764769827582265, 0.9105907931032906, 0.9185558356479698, 0.8529870899146677, 0.17171303418604145, 0.22221686777017127, 0.606046003009558, 0.18954959915676708, 0.09477479957838354, 0.7266067967676072, 0.29926908642979194, 0.3575682591109203, 0.34202181306261936, 0.2361466671244357, 0.18891733369954855, 0.5903666678110893, 0.3570659966815554, 0.1317046709071311, 0.5121848313055098, 0.3266281133668952, 0.34584153180024196, 0.3266281133668952, 0.14260313955010478, 0.8556188373006287, 0.1219750860362323, 0.2744439435815227, 0.5946285444266325, 0.7969561625684048, 0.15939123251368095, 0.8279666807469593, 0.4988461144714407, 0.2724195093212832, 0.2299645208556287, 0.4436285136609442, 0.2752139853266969, 0.2793216567494834, 0.736547303666437, 0.8648478866799731, 0.12354969809713902, 0.763283075330672, 0.2544276917768906, 0.8053876802856683, 0.1239057969670259, 0.06195289848351295, 0.14250534817472574, 0.8550320890483545, 0.05536139390001917, 0.1660841817000575, 0.7750595146002683, 0.8538050873212844, 0.14230084788688072, 0.506235914176501, 0.23797414768980818, 0.25960816111615437, 0.37034329020398066, 0.1640091713760486, 0.4655744219707186, 0.7647146120640571, 0.17647260278401317, 0.05882420092800439, 0.31199585892419285, 0.5399928327534107, 0.15599792946209642, 0.20785691103689166, 0.17321409253074307, 0.623570733110675, 0.2276489862309392, 0.9105959449237568, 0.46357921698262133, 0.3751331821635686, 0.16164275328999297, 0.19531528762697992, 0.5625080283657021, 0.2421909566574551, 0.30392692421356765, 0.1910397809342425, 0.503650331553912, 0.40134606520002986, 0.3398494906935737, 0.2556962834742126, 0.5194711063531762, 0.3160637454317518, 0.1658552327513153, 0.19073368367202476, 0.5722010510160743, 0.22252263095069555, 0.386848669180797, 0.41894528365431294, 0.19426898233970155, 0.3759594537812639, 0.023497465861328993, 0.6109341123945538, 0.8540143398779715, 0.5827822145524879, 0.21766564639912198, 0.20362270147014636, 0.8351014609681292, 0.3412021470471395, 0.41043156818713883, 0.24230297398999764, 0.9505443377006165, 0.493768802033556, 0.35580398970065064, 0.14885677120129262, 0.9115126471892316, 0.3545772454228101, 0.28424787442985605, 0.3633684167969293, 0.8350839806582627, 0.14449023376871373, 0.46681460140661357, 0.3890121678388446, 0.3913534074083621, 0.2846206599333543, 0.32019824242502354, 0.7365180209151886, 0.8379405929310207, 0.17955869848521872, 0.9118950050857134, 0.2207272310716348, 0.8829089242865392], \"Term\": [\"aalborg\", \"addison\", \"addison\", \"algocount\", \"algocount\", \"allegheny\", \"allegheny\", \"allegheny\", \"almost\", \"almost\", \"alomar\", \"alomar\", \"alomar\", \"america\", \"america\", \"america\", \"amjad\", \"anyone\", \"anyone\", \"anyone\", \"archer\", \"baldschun\", \"baldschun\", \"banks\", \"banks\", \"banks\", \"baseball\", \"baseball\", \"baseball\", \"bates\", \"bates\", \"bates\", \"batter\", \"batter\", \"batter\", \"bebmza\", \"berg\", \"berg\", \"berg\", \"bitpixel\", \"bitpixel\", \"bockamp\", \"bockamp\", \"bunning\", \"bunning\", \"bunning\", \"burzynski\", \"burzynski\", \"burzynski\", \"candida\", \"candida\", \"candida\", \"canseco\", \"canseco\", \"canseco\", \"case\", \"case\", \"case\", \"cavalier\", \"center\", \"center\", \"center\", \"cfids\", \"chastity\", \"chastity\", \"chastity\", \"chevron\", \"cle\", \"cle\", \"cle\", \"col\", \"col\", \"col\", \"collision\", \"color\", \"color\", \"color\", \"compass\", \"compass\", \"compass\", \"compassop\", \"compassop\", \"compassop\", \"computer\", \"computer\", \"computer\", \"corn\", \"corn\", \"corn\", \"cscphx\", \"cseunledu\", \"cseunledu\", \"cspittedu\", \"cspittedu\", \"cspittedu\", \"cview\", \"cview\", \"cview\", \"data\", \"data\", \"data\", \"david\", \"david\", \"david\", \"day\", \"day\", \"day\", \"demers\", \"demers\", \"demers\", \"dept\", \"dept\", \"dept\", \"directory\", \"directory\", \"directory\", \"disease\", \"disease\", \"disease\", \"doctor\", \"doctor\", \"doctor\", \"dominik\", \"dominik\", \"dxfdoc\", \"eastgate\", \"eastgate\", \"eastgate\", \"externel\", \"fact\", \"fact\", \"fact\", \"field\", \"field\", \"field\", \"file\", \"file\", \"file\", \"food\", \"food\", \"food\", \"fopen\", \"foreskin\", \"format\", \"format\", \"format\", \"francesa\", \"francesa\", \"francesa\", \"fry\", \"fry\", \"function\", \"function\", \"function\", \"game\", \"game\", \"game\", \"geb\", \"geb\", \"geb\", \"globe\", \"globe\", \"globe\", \"gordon\", \"gordon\", \"gordon\", \"grafsys\", \"grafsys\", \"grafsys\", \"graphic\", \"graphic\", \"graphic\", \"gross\", \"gross\", \"group\", \"group\", \"group\", \"gup\", \"hagins\", \"haston\", \"haston\", \"hathaway\", \"hdf\", \"hdf\", \"hdf\", \"help\", \"help\", \"help\", \"hexagon\", \"hexagon\", \"hinckley\", \"hitter\", \"hitter\", \"hitter\", \"holler\", \"holli\", \"home\", \"home\", \"home\", \"homeopath\", \"homeopath\", \"horan\", \"horan\", \"huisman\", \"iesdaucdk\", \"image\", \"image\", \"image\", \"inc\", \"inc\", \"inc\", \"inflation\", \"info\", \"info\", \"info\", \"insert\", \"insert\", \"insert\", \"int\", \"int\", \"int\", \"intellect\", \"intellect\", \"intellect\", \"inversus\", \"jhunter\", \"jhwitten\", \"jorgensen\", \"jpeg\", \"jpeg\", \"jpeg\", \"judgement\", \"judgement\", \"judgement\", \"jurriaan\", \"karros\", \"karros\", \"kaufman\", \"keeler\", \"kenneth\", \"kenneth\", \"kenneth\", \"kingoz\", \"kingoz\", \"kingoz\", \"lady\", \"lady\", \"lady\", \"lars\", \"league\", \"league\", \"league\", \"lee\", \"lee\", \"lee\", \"lefebvre\", \"lefebvre\", \"lefebvre\", \"lines\", \"lines\", \"lines\", \"list\", \"list\", \"list\", \"losing\", \"losing\", \"losing\", \"lot\", \"lot\", \"lot\", \"lucas\", \"lucas\", \"lucas\", \"lurie\", \"lurie\", \"lurie\", \"luriem\", \"luriem\", \"luriem\", \"lustig\", \"lustig\", \"lustig\", \"mahaffey\", \"mahaffey\", \"marco\", \"marco\", \"marco\", \"mark\", \"mark\", \"mark\", \"mckay\", \"mcmath\", \"mcmath\", \"medicine\", \"medicine\", \"medicine\", \"methanol\", \"methanol\", \"methanol\", \"migraine\", \"migraine\", \"migraine\", \"migraines\", \"migraines\", \"miro\", \"mistake\", \"mistake\", \"mistake\", \"mtaca\", \"naomi\", \"naomi\", \"naprosyn\", \"needle\", \"needle\", \"needle\", \"new\", \"new\", \"new\", \"njxp\", \"njxp\", \"njxp\", \"number\", \"number\", \"number\", \"opcols\", \"oprows\", \"outline\", \"outline\", \"outline\", \"package\", \"package\", \"package\", \"pain\", \"pain\", \"pain\", \"patient\", \"patient\", \"patient\", \"people\", \"people\", \"people\", \"pittance\", \"pittsburg\", \"pittsburg\", \"pittsburg\", \"player\", \"player\", \"player\", \"point\", \"point\", \"point\", \"prince\", \"prince\", \"prince\", \"prk\", \"prk\", \"prk\", \"problem\", \"problem\", \"problem\", \"program\", \"program\", \"program\", \"projector\", \"projector\", \"projector\", \"pvconway\", \"question\", \"question\", \"question\", \"rahul\", \"rainer\", \"rapp\", \"reason\", \"reason\", \"reason\", \"replyto\", \"replyto\", \"replyto\", \"research\", \"research\", \"research\", \"result\", \"result\", \"result\", \"rickc\", \"rickc\", \"rind\", \"rind\", \"rind\", \"ringing\", \"ringing\", \"roar\", \"roar\", \"robbins\", \"roell\", \"roger\", \"roger\", \"roger\", \"row\", \"row\", \"row\", \"run\", \"run\", \"run\", \"sandberg\", \"sandberg\", \"sandberg\", \"science\", \"science\", \"science\", \"season\", \"season\", \"season\", \"seirio\", \"seirio\", \"seizure\", \"seizure\", \"seizure\", \"shippert\", \"shippert\", \"sizeof\", \"software\", \"software\", \"software\", \"something\", \"something\", \"something\", \"soomro\", \"souvlaki\", \"souvlaki\", \"sphinx\", \"sphinx\", \"spline\", \"spline\", \"spline\", \"spmarse\", \"spmarse\", \"stance\", \"stance\", \"stance\", \"steinman\", \"steinman\", \"steve\", \"steve\", \"steve\", \"study\", \"study\", \"study\", \"suck\", \"suck\", \"suck\", \"sun\", \"sun\", \"sun\", \"swing\", \"swing\", \"swing\", \"syracuse\", \"syracuse\", \"system\", \"system\", \"system\", \"team\", \"team\", \"team\", \"test\", \"test\", \"test\", \"thanks\", \"thanks\", \"thanks\", \"thing\", \"thing\", \"thing\", \"thomas\", \"thomas\", \"thomas\", \"time\", \"time\", \"time\", \"turpin\", \"turpin\", \"turpin\", \"ultracom\", \"univ\", \"univ\", \"univ\", \"univesa\", \"use\", \"use\", \"use\", \"vaseline\", \"version\", \"version\", \"version\", \"visuallib\", \"way\", \"way\", \"way\", \"webber\", \"win\", \"win\", \"win\", \"world\", \"world\", \"world\", \"wunsch\", \"xxxx\", \"xxxx\", \"zalan\", \"zemcik\", \"zemcik\"]}, \"R\": 30, \"lambda.step\": 0.01, \"plot.opts\": {\"xlab\": \"PC1\", \"ylab\": \"PC2\"}, \"topic.order\": [1, 2, 3]};\n",
              "\n",
              "function LDAvis_load_lib(url, callback){\n",
              "  var s = document.createElement('script');\n",
              "  s.src = url;\n",
              "  s.async = true;\n",
              "  s.onreadystatechange = s.onload = callback;\n",
              "  s.onerror = function(){console.warn(\"failed to load library \" + url);};\n",
              "  document.getElementsByTagName(\"head\")[0].appendChild(s);\n",
              "}\n",
              "\n",
              "if(typeof(LDAvis) !== \"undefined\"){\n",
              "   // already loaded: just create the visualization\n",
              "   !function(LDAvis){\n",
              "       new LDAvis(\"#\" + \"ldavis_el5061403561849911843864067414\", ldavis_el5061403561849911843864067414_data);\n",
              "   }(LDAvis);\n",
              "}else if(typeof define === \"function\" && define.amd){\n",
              "   // require.js is available: use it to load d3/LDAvis\n",
              "   require.config({paths: {d3: \"https://d3js.org/d3.v5\"}});\n",
              "   require([\"d3\"], function(d3){\n",
              "      window.d3 = d3;\n",
              "      LDAvis_load_lib(\"https://cdn.jsdelivr.net/gh/bmabey/pyLDAvis@3.3.1/pyLDAvis/js/ldavis.v3.0.0.js\", function(){\n",
              "        new LDAvis(\"#\" + \"ldavis_el5061403561849911843864067414\", ldavis_el5061403561849911843864067414_data);\n",
              "      });\n",
              "    });\n",
              "}else{\n",
              "    // require.js not available: dynamically load d3 & LDAvis\n",
              "    LDAvis_load_lib(\"https://d3js.org/d3.v5.js\", function(){\n",
              "         LDAvis_load_lib(\"https://cdn.jsdelivr.net/gh/bmabey/pyLDAvis@3.3.1/pyLDAvis/js/ldavis.v3.0.0.js\", function(){\n",
              "                 new LDAvis(\"#\" + \"ldavis_el5061403561849911843864067414\", ldavis_el5061403561849911843864067414_data);\n",
              "            })\n",
              "         });\n",
              "}\n",
              "</script>"
            ],
            "text/plain": [
              "PreparedData(topic_coordinates=              x         y  topics  cluster       Freq\n",
              "topic                                                \n",
              "0     -0.013801  0.022998       1        1  39.924700\n",
              "1     -0.015649 -0.022056       2        1  31.896845\n",
              "2      0.029450 -0.000942       3        1  28.178455, topic_info=          Term        Freq       Total Category  logprob  loglift\n",
              "29     science  341.000000  341.000000  Default  30.0000  30.0000\n",
              "96        team  383.000000  383.000000  Default  29.0000  29.0000\n",
              "404   baseball  291.000000  291.000000  Default  28.0000  28.0000\n",
              "242      image  671.000000  671.000000  Default  27.0000  27.0000\n",
              "14         geb  223.000000  223.000000  Default  26.0000  26.0000\n",
              "..         ...         ...         ...      ...      ...      ...\n",
              "313  something   68.491212  243.446931   Topic3  -6.2248  -0.0016\n",
              "7     computer   77.012221  372.695059   Topic3  -6.1075  -0.3102\n",
              "235       file   74.419482  470.976415   Topic3  -6.1418  -0.5785\n",
              "998     doctor   64.754917  213.192671   Topic3  -6.2809   0.0750\n",
              "669   software   64.819250  282.652297   Topic3  -6.2799  -0.2060\n",
              "\n",
              "[287 rows x 6 columns], token_table=       Topic      Freq       Term\n",
              "term                             \n",
              "13684      3  0.736550    aalborg\n",
              "4929       2  0.184150    addison\n",
              "4929       3  0.736598    addison\n",
              "12459      1  0.157494  algocount\n",
              "12459      3  0.787471  algocount\n",
              "...      ...       ...        ...\n",
              "8979       2  0.837941       xxxx\n",
              "8979       3  0.179559       xxxx\n",
              "4491       2  0.911895      zalan\n",
              "2952       1  0.220727     zemcik\n",
              "2952       3  0.882909     zemcik\n",
              "\n",
              "[513 rows x 3 columns], R=30, lambda_step=0.01, plot_opts={'xlab': 'PC1', 'ylab': 'PC2'}, topic_order=[1, 2, 3])"
            ]
          },
          "metadata": {},
          "execution_count": 17
        }
      ]
    },
    {
      "cell_type": "code",
      "source": [
        ""
      ],
      "metadata": {
        "id": "7SK3UCdYPE_T"
      },
      "execution_count": null,
      "outputs": []
    }
  ]
}