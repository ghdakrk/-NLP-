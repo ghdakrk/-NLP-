{
  "nbformat": 4,
  "nbformat_minor": 0,
  "metadata": {
    "colab": {
      "name": "gensim.ipynb",
      "provenance": [],
      "authorship_tag": "ABX9TyOmhBkr4lfwILCHv6D7rwAG",
      "include_colab_link": true
    },
    "kernelspec": {
      "name": "python3",
      "display_name": "Python 3"
    },
    "language_info": {
      "name": "python"
    },
    "accelerator": "GPU"
  },
  "cells": [
    {
      "cell_type": "markdown",
      "metadata": {
        "id": "view-in-github",
        "colab_type": "text"
      },
      "source": [
        "<a href=\"https://colab.research.google.com/github/ghdakrk/-NLP-/blob/main/gensim.ipynb\" target=\"_parent\"><img src=\"https://colab.research.google.com/assets/colab-badge.svg\" alt=\"Open In Colab\"/></a>"
      ]
    },
    {
      "cell_type": "code",
      "source": [
        "# gensim package\n",
        "! pip install gensim\n",
        "!pip install pyLDAvis"
      ],
      "metadata": {
        "colab": {
          "base_uri": "https://localhost:8080/"
        },
        "id": "ucWKiXYrExHr",
        "outputId": "4cce50a0-c1b6-46d9-a21b-1220ec81e3cf"
      },
      "execution_count": 1,
      "outputs": [
        {
          "output_type": "stream",
          "name": "stdout",
          "text": [
            "Requirement already satisfied: gensim in /usr/local/lib/python3.7/dist-packages (3.6.0)\n",
            "Requirement already satisfied: smart-open>=1.2.1 in /usr/local/lib/python3.7/dist-packages (from gensim) (5.2.1)\n",
            "Requirement already satisfied: numpy>=1.11.3 in /usr/local/lib/python3.7/dist-packages (from gensim) (1.19.5)\n",
            "Requirement already satisfied: scipy>=0.18.1 in /usr/local/lib/python3.7/dist-packages (from gensim) (1.4.1)\n",
            "Requirement already satisfied: six>=1.5.0 in /usr/local/lib/python3.7/dist-packages (from gensim) (1.15.0)\n"
          ]
        }
      ]
    },
    {
      "cell_type": "code",
      "source": [
        "corpus = [\n",
        "          'This is the first document.',\n",
        "          'This is the second second document.',\n",
        "          'And the third one.',\n",
        "          'Is this the first document?',\n",
        "          'The last document?',\n",
        "]\n",
        "token_list = [[text for text in doc.split()] for doc in corpus]\n",
        "token_list"
      ],
      "metadata": {
        "colab": {
          "base_uri": "https://localhost:8080/"
        },
        "id": "H-rAbcorE1S0",
        "outputId": "4e93618c-8567-4905-d330-aaad5c8634be"
      },
      "execution_count": 2,
      "outputs": [
        {
          "output_type": "execute_result",
          "data": {
            "text/plain": [
              "[['This', 'is', 'the', 'first', 'document.'],\n",
              " ['This', 'is', 'the', 'second', 'second', 'document.'],\n",
              " ['And', 'the', 'third', 'one.'],\n",
              " ['Is', 'this', 'the', 'first', 'document?'],\n",
              " ['The', 'last', 'document?']]"
            ]
          },
          "metadata": {},
          "execution_count": 2
        }
      ]
    },
    {
      "cell_type": "code",
      "source": [
        "from gensim.corpora import Dictionary\n",
        "\n",
        "dictionary = Dictionary(token_list)\n",
        "dictionary.token2id"
      ],
      "metadata": {
        "colab": {
          "base_uri": "https://localhost:8080/"
        },
        "id": "0RA0Urj2FJ7E",
        "outputId": "61e318a1-7add-4f70-de8a-49f50cacb060"
      },
      "execution_count": 3,
      "outputs": [
        {
          "output_type": "execute_result",
          "data": {
            "text/plain": [
              "{'And': 6,\n",
              " 'Is': 9,\n",
              " 'The': 12,\n",
              " 'This': 0,\n",
              " 'document.': 1,\n",
              " 'document?': 10,\n",
              " 'first': 2,\n",
              " 'is': 3,\n",
              " 'last': 13,\n",
              " 'one.': 7,\n",
              " 'second': 5,\n",
              " 'the': 4,\n",
              " 'third': 8,\n",
              " 'this': 11}"
            ]
          },
          "metadata": {},
          "execution_count": 3
        }
      ]
    },
    {
      "cell_type": "code",
      "source": [
        "term_matrix = [dictionary.doc2bow(token) for token in token_list]\n",
        "term_matrix"
      ],
      "metadata": {
        "colab": {
          "base_uri": "https://localhost:8080/"
        },
        "id": "AiUgxwaqFZ4x",
        "outputId": "7d123ae1-33da-4fa9-a461-7aa2f18b91aa"
      },
      "execution_count": 4,
      "outputs": [
        {
          "output_type": "execute_result",
          "data": {
            "text/plain": [
              "[[(0, 1), (1, 1), (2, 1), (3, 1), (4, 1)],\n",
              " [(0, 1), (1, 1), (3, 1), (4, 1), (5, 2)],\n",
              " [(4, 1), (6, 1), (7, 1), (8, 1)],\n",
              " [(2, 1), (4, 1), (9, 1), (10, 1), (11, 1)],\n",
              " [(10, 1), (12, 1), (13, 1)]]"
            ]
          },
          "metadata": {},
          "execution_count": 4
        }
      ]
    },
    {
      "cell_type": "code",
      "source": [
        "from gensim.models import TfidfModel\n",
        "\n",
        "tfidf = TfidfModel(term_matrix)\n",
        "\n",
        "for doc in tfidf[term_matrix]:\n",
        "    print(\"doc:\")\n",
        "    for k, v in doc:\n",
        "        print(k, v)"
      ],
      "metadata": {
        "colab": {
          "base_uri": "https://localhost:8080/"
        },
        "id": "4gfiia9iFlAd",
        "outputId": "831a037a-29ba-40c4-f12a-912f08ff27be"
      },
      "execution_count": 5,
      "outputs": [
        {
          "output_type": "stream",
          "name": "stdout",
          "text": [
            "doc:\n",
            "0 0.49633406058198626\n",
            "1 0.49633406058198626\n",
            "2 0.49633406058198626\n",
            "3 0.49633406058198626\n",
            "4 0.12087183801361165\n",
            "doc:\n",
            "0 0.25482305694621393\n",
            "1 0.25482305694621393\n",
            "3 0.25482305694621393\n",
            "4 0.0620568558708622\n",
            "5 0.8951785160431313\n",
            "doc:\n",
            "4 0.07979258234193365\n",
            "6 0.5755093812740171\n",
            "7 0.5755093812740171\n",
            "8 0.5755093812740171\n",
            "doc:\n",
            "2 0.3485847413542797\n",
            "4 0.08489056411237639\n",
            "9 0.6122789185961829\n",
            "10 0.3485847413542797\n",
            "11 0.6122789185961829\n",
            "doc:\n",
            "10 0.37344696513776354\n",
            "12 0.6559486886294514\n",
            "13 0.6559486886294514\n"
          ]
        }
      ]
    },
    {
      "cell_type": "code",
      "source": [
        "# topic modeling\n",
        "from sklearn.datasets import fetch_20newsgroups\n",
        "\n",
        "newsgroups = fetch_20newsgroups(\n",
        "    categories=['comp.graphics', 'rec.sport.baseball', 'sci.med']\n",
        ")"
      ],
      "metadata": {
        "id": "-rNTlpZCG9Mg"
      },
      "execution_count": 6,
      "outputs": []
    },
    {
      "cell_type": "code",
      "source": [
        "import nltk\n",
        "nltk.download('punkt')\n",
        "nltk.download('averaged_perceptron_tagger')"
      ],
      "metadata": {
        "colab": {
          "base_uri": "https://localhost:8080/"
        },
        "id": "l2xdFM3LIIVC",
        "outputId": "80ec9b09-0a70-4798-84ce-9e5c0e2020b3"
      },
      "execution_count": 7,
      "outputs": [
        {
          "output_type": "stream",
          "name": "stdout",
          "text": [
            "[nltk_data] Downloading package punkt to /root/nltk_data...\n",
            "[nltk_data]   Unzipping tokenizers/punkt.zip.\n",
            "[nltk_data] Downloading package averaged_perceptron_tagger to\n",
            "[nltk_data]     /root/nltk_data...\n",
            "[nltk_data]   Unzipping taggers/averaged_perceptron_tagger.zip.\n"
          ]
        },
        {
          "output_type": "execute_result",
          "data": {
            "text/plain": [
              "True"
            ]
          },
          "metadata": {},
          "execution_count": 7
        }
      ]
    },
    {
      "cell_type": "code",
      "source": [
        "# 명사추출\n",
        "%%time\n",
        "from nltk.tag import pos_tag\n",
        "from nltk.tokenize import word_tokenize\n",
        "\n",
        "tagged_list = [pos_tag(word_tokenize(doc)) for doc in newsgroups.data]\n",
        "nouns_list = [[t[0] for t in doc if t[1].startswith(\"N\")] for doc in tagged_list]"
      ],
      "metadata": {
        "colab": {
          "base_uri": "https://localhost:8080/"
        },
        "id": "VD3-A_A2Hk3D",
        "outputId": "6478b8aa-0af5-4904-9e60-813dca08ec9c"
      },
      "execution_count": 9,
      "outputs": [
        {
          "output_type": "stream",
          "name": "stdout",
          "text": [
            "CPU times: user 23.6 s, sys: 138 ms, total: 23.8 s\n",
            "Wall time: 23.7 s\n"
          ]
        }
      ]
    },
    {
      "cell_type": "code",
      "source": [
        "# 표제어 추출\n",
        "nltk.download('wordnet')\n",
        "from nltk.stem import WordNetLemmatizer\n",
        "\n",
        "lm = WordNetLemmatizer()\n",
        "\n",
        "nouns_list = [[lm.lemmatize(w, pos=\"n\") for w in doc] for doc in nouns_list]"
      ],
      "metadata": {
        "colab": {
          "base_uri": "https://localhost:8080/"
        },
        "id": "5FLDxdokIFy5",
        "outputId": "a7606aae-cd73-42be-8437-315dd0abb449"
      },
      "execution_count": 13,
      "outputs": [
        {
          "output_type": "stream",
          "name": "stdout",
          "text": [
            "[nltk_data] Downloading package wordnet to /root/nltk_data...\n",
            "[nltk_data]   Unzipping corpora/wordnet.zip.\n"
          ]
        }
      ]
    },
    {
      "cell_type": "code",
      "source": [
        "# 불용어 제거\n",
        "import re\n",
        "token_list = [[text.lower() for text in doc] for doc in nouns_list]\n",
        "token_list = [[re.sub(r\"[^A-Za-z]+\" , \"\", word) for word in doc] for doc in token_list]"
      ],
      "metadata": {
        "id": "1P6NGAGLJNrN"
      },
      "execution_count": 16,
      "outputs": []
    },
    {
      "cell_type": "code",
      "source": [
        "from nltk.corpus import stopwords\n",
        "nltk.download('stopwords')\n",
        "stop_words = stopwords.words('english')\n",
        "stop_words += [\"\", \"subject\", \"article\", \"line\", \"year\", \"month\", \"address\", \"keyword\", \"msg\"]\n",
        "\n",
        "token_list = [[word for word in doc if (word not in stop_words) and (2 < len(word) < 10)]\n",
        "              for doc in token_list]"
      ],
      "metadata": {
        "id": "yU2TtZ0iNZy4",
        "outputId": "af9fa446-73bf-49a9-915c-d1342997f4f3",
        "colab": {
          "base_uri": "https://localhost:8080/"
        }
      },
      "execution_count": 19,
      "outputs": [
        {
          "output_type": "stream",
          "name": "stdout",
          "text": [
            "[nltk_data] Downloading package stopwords to /root/nltk_data...\n",
            "[nltk_data]   Unzipping corpora/stopwords.zip.\n"
          ]
        }
      ]
    },
    {
      "cell_type": "code",
      "source": [
        "# 결과\n",
        "from gensim import corpora\n",
        "\n",
        "dictionary = corpora.Dictionary(token_list)\n",
        "doc_term_matrix = [dictionary.doc2bow(tokens) for tokens in token_list]"
      ],
      "metadata": {
        "id": "hIkH-XTrN5XL"
      },
      "execution_count": 20,
      "outputs": []
    },
    {
      "cell_type": "code",
      "source": [
        "%%time\n",
        "from gensim.models.ldamodel import LdaModel\n",
        "\n",
        "model = LdaModel(corpus=doc_term_matrix, id2word=dictionary, num_topics=3,)"
      ],
      "metadata": {
        "id": "WzmCuZY6OPg7",
        "outputId": "806aad8e-f16a-4548-b3ad-28cf30021448",
        "colab": {
          "base_uri": "https://localhost:8080/"
        }
      },
      "execution_count": 24,
      "outputs": [
        {
          "output_type": "stream",
          "name": "stdout",
          "text": [
            "CPU times: user 2.85 s, sys: 117 ms, total: 2.97 s\n",
            "Wall time: 2.85 s\n"
          ]
        }
      ]
    },
    {
      "cell_type": "code",
      "source": [
        "model.print_topics()"
      ],
      "metadata": {
        "id": "-GZsOeRiOdZl",
        "outputId": "2eb47591-b21c-4361-8eb4-a5ce327dfbed",
        "colab": {
          "base_uri": "https://localhost:8080/"
        }
      },
      "execution_count": 25,
      "outputs": [
        {
          "output_type": "execute_result",
          "data": {
            "text/plain": [
              "[(0,\n",
              "  '0.011*\"lines\" + 0.006*\"banks\" + 0.005*\"geb\" + 0.005*\"problem\" + 0.004*\"computer\" + 0.004*\"gordon\" + 0.004*\"cspittedu\" + 0.004*\"time\" + 0.004*\"science\" + 0.003*\"file\"'),\n",
              " (1,\n",
              "  '0.014*\"lines\" + 0.005*\"time\" + 0.005*\"point\" + 0.005*\"people\" + 0.004*\"game\" + 0.004*\"day\" + 0.004*\"computer\" + 0.003*\"science\" + 0.003*\"case\" + 0.003*\"number\"'),\n",
              " (2,\n",
              "  '0.011*\"lines\" + 0.010*\"image\" + 0.007*\"game\" + 0.005*\"time\" + 0.005*\"team\" + 0.005*\"file\" + 0.005*\"program\" + 0.004*\"jpeg\" + 0.004*\"anyone\" + 0.004*\"run\"')]"
            ]
          },
          "metadata": {},
          "execution_count": 25
        }
      ]
    },
    {
      "cell_type": "code",
      "source": [
        "# visualize\n",
        "import pyLDAvis\n",
        "import pyLDAvis.gensim\n",
        "\n",
        "pyLDAvis.enable_notebook()\n",
        "vis = pyLDAvis.gensim.prepare(model, doc_term_matrix, dictionary)\n",
        "vis"
      ],
      "metadata": {
        "id": "cJfGGKidOsjA",
        "outputId": "9fce4b0b-b552-4850-ff75-b4ad476b4e08",
        "colab": {
          "base_uri": "https://localhost:8080/",
          "height": 394
        }
      },
      "execution_count": 26,
      "outputs": [
        {
          "output_type": "error",
          "ename": "ModuleNotFoundError",
          "evalue": "ignored",
          "traceback": [
            "\u001b[0;31m---------------------------------------------------------------------------\u001b[0m",
            "\u001b[0;31mModuleNotFoundError\u001b[0m                       Traceback (most recent call last)",
            "\u001b[0;32m<ipython-input-26-c03793a11fe2>\u001b[0m in \u001b[0;36m<module>\u001b[0;34m()\u001b[0m\n\u001b[1;32m      1\u001b[0m \u001b[0;31m# visualize\u001b[0m\u001b[0;34m\u001b[0m\u001b[0;34m\u001b[0m\u001b[0;34m\u001b[0m\u001b[0m\n\u001b[1;32m      2\u001b[0m \u001b[0;34m\u001b[0m\u001b[0m\n\u001b[0;32m----> 3\u001b[0;31m \u001b[0;32mimport\u001b[0m \u001b[0mpyLDAvis\u001b[0m\u001b[0;34m\u001b[0m\u001b[0;34m\u001b[0m\u001b[0m\n\u001b[0m\u001b[1;32m      4\u001b[0m \u001b[0;32mimport\u001b[0m \u001b[0mpyLDAvis\u001b[0m\u001b[0;34m.\u001b[0m\u001b[0mgensim\u001b[0m\u001b[0;34m\u001b[0m\u001b[0;34m\u001b[0m\u001b[0m\n\u001b[1;32m      5\u001b[0m \u001b[0;34m\u001b[0m\u001b[0m\n",
            "\u001b[0;31mModuleNotFoundError\u001b[0m: No module named 'pyLDAvis'",
            "",
            "\u001b[0;31m---------------------------------------------------------------------------\u001b[0;32m\nNOTE: If your import is failing due to a missing package, you can\nmanually install dependencies using either !pip or !apt.\n\nTo view examples of installing some common dependencies, click the\n\"Open Examples\" button below.\n\u001b[0;31m---------------------------------------------------------------------------\u001b[0m\n"
          ],
          "errorDetails": {
            "actions": [
              {
                "action": "open_url",
                "actionText": "Open Examples",
                "url": "/notebooks/snippets/importing_libraries.ipynb"
              }
            ]
          }
        }
      ]
    },
    {
      "cell_type": "code",
      "source": [
        ""
      ],
      "metadata": {
        "id": "7SK3UCdYPE_T"
      },
      "execution_count": null,
      "outputs": []
    }
  ]
}