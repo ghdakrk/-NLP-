{
  "nbformat": 4,
  "nbformat_minor": 0,
  "metadata": {
    "colab": {
      "name": "sklearn-nlp.ipynb",
      "provenance": [],
      "authorship_tag": "ABX9TyO8iybcuLTxoda/TCGyd71F",
      "include_colab_link": true
    },
    "kernelspec": {
      "name": "python3",
      "display_name": "Python 3"
    },
    "language_info": {
      "name": "python"
    }
  },
  "cells": [
    {
      "cell_type": "markdown",
      "metadata": {
        "id": "view-in-github",
        "colab_type": "text"
      },
      "source": [
        "<a href=\"https://colab.research.google.com/github/ghdakrk/-NLP-/blob/main/sklearn_nlp.ipynb\" target=\"_parent\"><img src=\"https://colab.research.google.com/assets/colab-badge.svg\" alt=\"Open In Colab\"/></a>"
      ]
    },
    {
      "cell_type": "code",
      "execution_count": 1,
      "metadata": {
        "id": "2MAsMfIg3O8A"
      },
      "outputs": [],
      "source": [
        "# 제일 간단한 vertorizer\n",
        "from sklearn.feature_extraction import DictVectorizer"
      ]
    },
    {
      "cell_type": "code",
      "source": [
        "v = DictVectorizer(sparse=False)\n",
        "# A 한번, B 두번\n",
        "D = [{'A':1, \"B\":2}, {\"B\":3, \"C\":1}]\n",
        "X = v.fit_transform(D)\n",
        "X"
      ],
      "metadata": {
        "colab": {
          "base_uri": "https://localhost:8080/"
        },
        "id": "Smosirc13qXY",
        "outputId": "e59c28a6-b930-4edb-cc9a-f8496655c051"
      },
      "execution_count": 2,
      "outputs": [
        {
          "output_type": "execute_result",
          "data": {
            "text/plain": [
              "array([[1., 2., 0.],\n",
              "       [0., 3., 1.]])"
            ]
          },
          "metadata": {},
          "execution_count": 2
        }
      ]
    },
    {
      "cell_type": "code",
      "source": [
        "v.feature_names_"
      ],
      "metadata": {
        "colab": {
          "base_uri": "https://localhost:8080/"
        },
        "id": "RfPmbOje360Q",
        "outputId": "e5960081-f22f-4531-e630-a06ad0a17e84"
      },
      "execution_count": 3,
      "outputs": [
        {
          "output_type": "execute_result",
          "data": {
            "text/plain": [
              "['A', 'B', 'C']"
            ]
          },
          "metadata": {},
          "execution_count": 3
        }
      ]
    },
    {
      "cell_type": "code",
      "source": [
        "# 문서를 토큰 리스트로 변환, 빈도 계산, bow 인코딩 벡터 변환\n",
        "from sklearn.feature_extraction.text import CountVectorizer"
      ],
      "metadata": {
        "id": "D-IKTbve4Ojt"
      },
      "execution_count": 5,
      "outputs": []
    },
    {
      "cell_type": "code",
      "source": [
        "# 사전을 만든다.\n",
        "corpus = [\n",
        "          'This is the first document.',\n",
        "          'This is the second second document.',\n",
        "          'And the third one.',\n",
        "          'Is this the first document?',\n",
        "          'The last document?',\n",
        "]\n",
        "vect = CountVectorizer()\n",
        "vect.fit(corpus)\n",
        "vect.vocabulary_"
      ],
      "metadata": {
        "colab": {
          "base_uri": "https://localhost:8080/"
        },
        "id": "jHDcBFc04jWq",
        "outputId": "8c115ece-7937-4d57-805e-f44b599db795"
      },
      "execution_count": 11,
      "outputs": [
        {
          "output_type": "execute_result",
          "data": {
            "text/plain": [
              "{'and': 0,\n",
              " 'document': 1,\n",
              " 'first': 2,\n",
              " 'is': 3,\n",
              " 'last': 4,\n",
              " 'one': 5,\n",
              " 'second': 6,\n",
              " 'the': 7,\n",
              " 'third': 8,\n",
              " 'this': 9}"
            ]
          },
          "metadata": {},
          "execution_count": 11
        }
      ]
    },
    {
      "cell_type": "code",
      "source": [
        "# 단어장의 각 단어가 해당 문장에 사용됐는지를 표시\n",
        "vect.transform(['This is the second documnet.']).toarray()"
      ],
      "metadata": {
        "colab": {
          "base_uri": "https://localhost:8080/"
        },
        "id": "0CU7qacx5GrC",
        "outputId": "fa26f1ca-5968-42a4-cc50-2ebdeebfcf7d"
      },
      "execution_count": 12,
      "outputs": [
        {
          "output_type": "execute_result",
          "data": {
            "text/plain": [
              "array([[0, 0, 0, 1, 0, 0, 1, 1, 0, 1]])"
            ]
          },
          "metadata": {},
          "execution_count": 12
        }
      ]
    },
    {
      "cell_type": "code",
      "source": [
        "vect.transform(['Something completely new']).toarray()"
      ],
      "metadata": {
        "colab": {
          "base_uri": "https://localhost:8080/"
        },
        "id": "KjKPoFqE5XFi",
        "outputId": "bae44f46-8e99-4c43-867c-0381c5bf1027"
      },
      "execution_count": 13,
      "outputs": [
        {
          "output_type": "execute_result",
          "data": {
            "text/plain": [
              "array([[0, 0, 0, 0, 0, 0, 0, 0, 0, 0]])"
            ]
          },
          "metadata": {},
          "execution_count": 13
        }
      ]
    },
    {
      "cell_type": "code",
      "source": [
        "vect.transform(corpus).toarray()"
      ],
      "metadata": {
        "colab": {
          "base_uri": "https://localhost:8080/"
        },
        "id": "7RD6vS_a5sz2",
        "outputId": "fdb36048-1cdd-4dce-97c6-be1f0b9f96e2"
      },
      "execution_count": 14,
      "outputs": [
        {
          "output_type": "execute_result",
          "data": {
            "text/plain": [
              "array([[0, 1, 1, 1, 0, 0, 0, 1, 0, 1],\n",
              "       [0, 1, 0, 1, 0, 0, 2, 1, 0, 1],\n",
              "       [1, 0, 0, 0, 0, 1, 0, 1, 1, 0],\n",
              "       [0, 1, 1, 1, 0, 0, 0, 1, 0, 1],\n",
              "       [0, 1, 0, 0, 1, 0, 0, 1, 0, 0]])"
            ]
          },
          "metadata": {},
          "execution_count": 14
        }
      ]
    },
    {
      "cell_type": "code",
      "source": [
        "vect = CountVectorizer(stop_words='english').fit(corpus)\n",
        "vect.vocabulary_"
      ],
      "metadata": {
        "colab": {
          "base_uri": "https://localhost:8080/"
        },
        "id": "9GWJ8NjP5wy-",
        "outputId": "a1454c70-dec2-44a2-9122-1e1de1be5a13"
      },
      "execution_count": 15,
      "outputs": [
        {
          "output_type": "execute_result",
          "data": {
            "text/plain": [
              "{'document': 0, 'second': 1}"
            ]
          },
          "metadata": {},
          "execution_count": 15
        }
      ]
    },
    {
      "cell_type": "code",
      "source": [
        "# 문자단위 단어화\n",
        "vect = CountVectorizer(analyzer='char').fit(corpus)\n",
        "vect.vocabulary_"
      ],
      "metadata": {
        "colab": {
          "base_uri": "https://localhost:8080/"
        },
        "id": "Tzhy_5aI6E9K",
        "outputId": "87d92ed5-647b-4da1-84af-d5ba8bbc84cd"
      },
      "execution_count": 16,
      "outputs": [
        {
          "output_type": "execute_result",
          "data": {
            "text/plain": [
              "{' ': 0,\n",
              " '.': 1,\n",
              " '?': 2,\n",
              " 'a': 3,\n",
              " 'c': 4,\n",
              " 'd': 5,\n",
              " 'e': 6,\n",
              " 'f': 7,\n",
              " 'h': 8,\n",
              " 'i': 9,\n",
              " 'l': 10,\n",
              " 'm': 11,\n",
              " 'n': 12,\n",
              " 'o': 13,\n",
              " 'r': 14,\n",
              " 's': 15,\n",
              " 't': 16,\n",
              " 'u': 17}"
            ]
          },
          "metadata": {},
          "execution_count": 16
        }
      ]
    },
    {
      "cell_type": "code",
      "source": [
        "# 정규표현식\n",
        "vect = CountVectorizer(token_pattern='t\\w+').fit(corpus)\n",
        "vect.vocabulary_"
      ],
      "metadata": {
        "colab": {
          "base_uri": "https://localhost:8080/"
        },
        "id": "bXKEiFVA6duC",
        "outputId": "e0ab3709-c060-4e3d-9b8a-f7943cff5413"
      },
      "execution_count": 18,
      "outputs": [
        {
          "output_type": "execute_result",
          "data": {
            "text/plain": [
              "{'the': 0, 'third': 1, 'this': 2}"
            ]
          },
          "metadata": {},
          "execution_count": 18
        }
      ]
    },
    {
      "cell_type": "code",
      "source": [
        "import nltk\n",
        "nltk.download('punkt')\n",
        "\n",
        "vect = CountVectorizer(tokenizer=nltk.word_tokenize).fit(corpus)\n",
        "vect.vocabulary_"
      ],
      "metadata": {
        "colab": {
          "base_uri": "https://localhost:8080/"
        },
        "id": "cjFRbUyy6o-9",
        "outputId": "4d2fd8dd-1a83-40a0-dc79-e5415d1ba36c"
      },
      "execution_count": 21,
      "outputs": [
        {
          "output_type": "stream",
          "name": "stdout",
          "text": [
            "[nltk_data] Downloading package punkt to /root/nltk_data...\n",
            "[nltk_data]   Unzipping tokenizers/punkt.zip.\n"
          ]
        },
        {
          "output_type": "stream",
          "name": "stderr",
          "text": [
            "/usr/local/lib/python3.7/dist-packages/sklearn/feature_extraction/text.py:517: UserWarning: The parameter 'token_pattern' will not be used since 'tokenizer' is not None'\n",
            "  \"The parameter 'token_pattern' will not be used\"\n"
          ]
        },
        {
          "output_type": "execute_result",
          "data": {
            "text/plain": [
              "{'.': 0,\n",
              " '?': 1,\n",
              " 'and': 2,\n",
              " 'document': 3,\n",
              " 'first': 4,\n",
              " 'is': 5,\n",
              " 'last': 6,\n",
              " 'one': 7,\n",
              " 'second': 8,\n",
              " 'the': 9,\n",
              " 'third': 10,\n",
              " 'this': 11}"
            ]
          },
          "metadata": {},
          "execution_count": 21
        }
      ]
    },
    {
      "cell_type": "code",
      "source": [
        "vect = CountVectorizer(ngram_range=(2, 2)).fit(corpus)\n",
        "vect.vocabulary_"
      ],
      "metadata": {
        "colab": {
          "base_uri": "https://localhost:8080/"
        },
        "id": "uQ8o8Kiu62Dj",
        "outputId": "b80818ac-b5de-495b-8b15-0d05d14efeb8"
      },
      "execution_count": 22,
      "outputs": [
        {
          "output_type": "execute_result",
          "data": {
            "text/plain": [
              "{'and the': 0,\n",
              " 'first document': 1,\n",
              " 'is the': 2,\n",
              " 'is this': 3,\n",
              " 'last document': 4,\n",
              " 'second document': 5,\n",
              " 'second second': 6,\n",
              " 'the first': 7,\n",
              " 'the last': 8,\n",
              " 'the second': 9,\n",
              " 'the third': 10,\n",
              " 'third one': 11,\n",
              " 'this is': 12,\n",
              " 'this the': 13}"
            ]
          },
          "metadata": {},
          "execution_count": 22
        }
      ]
    },
    {
      "cell_type": "code",
      "source": [
        "vect = CountVectorizer(ngram_range=(1,2), token_pattern=\"t\\w+\").fit(corpus)\n",
        "vect.vocabulary_"
      ],
      "metadata": {
        "colab": {
          "base_uri": "https://localhost:8080/"
        },
        "id": "B03rOyET9FyT",
        "outputId": "18d2451e-09ca-435c-c7da-4792bd57866b"
      },
      "execution_count": 23,
      "outputs": [
        {
          "output_type": "execute_result",
          "data": {
            "text/plain": [
              "{'the': 0, 'the third': 1, 'third': 2, 'this': 3, 'this the': 4}"
            ]
          },
          "metadata": {},
          "execution_count": 23
        }
      ]
    },
    {
      "cell_type": "code",
      "source": [
        "vect = CountVectorizer(max_df=4, min_df=2).fit(corpus)\n",
        "vect.vocabulary_, vect.stop_words_"
      ],
      "metadata": {
        "colab": {
          "base_uri": "https://localhost:8080/"
        },
        "id": "07-Bq5R09W9Q",
        "outputId": "35755f69-3f71-4c3e-d8fc-dcbca3382b94"
      },
      "execution_count": 24,
      "outputs": [
        {
          "output_type": "execute_result",
          "data": {
            "text/plain": [
              "({'document': 0, 'first': 1, 'is': 2, 'this': 3},\n",
              " {'and', 'last', 'one', 'second', 'the', 'third'})"
            ]
          },
          "metadata": {},
          "execution_count": 24
        }
      ]
    },
    {
      "cell_type": "code",
      "source": [
        "# 빈도 + 중요도\n",
        "from sklearn.feature_extraction.text import TfidfVectorizer\n",
        "\n",
        "tfidv = TfidfVectorizer().fit(corpus)\n",
        "tfidv.transform(corpus).toarray()"
      ],
      "metadata": {
        "colab": {
          "base_uri": "https://localhost:8080/"
        },
        "id": "mNxIfF0s9eo0",
        "outputId": "4256913c-cdd4-4f5c-f63a-2538d8840348"
      },
      "execution_count": 25,
      "outputs": [
        {
          "output_type": "execute_result",
          "data": {
            "text/plain": [
              "array([[0.        , 0.38947624, 0.55775063, 0.4629834 , 0.        ,\n",
              "        0.        , 0.        , 0.32941651, 0.        , 0.4629834 ],\n",
              "       [0.        , 0.24151532, 0.        , 0.28709733, 0.        ,\n",
              "        0.        , 0.85737594, 0.20427211, 0.        , 0.28709733],\n",
              "       [0.55666851, 0.        , 0.        , 0.        , 0.        ,\n",
              "        0.55666851, 0.        , 0.26525553, 0.55666851, 0.        ],\n",
              "       [0.        , 0.38947624, 0.55775063, 0.4629834 , 0.        ,\n",
              "        0.        , 0.        , 0.32941651, 0.        , 0.4629834 ],\n",
              "       [0.        , 0.45333103, 0.        , 0.        , 0.80465933,\n",
              "        0.        , 0.        , 0.38342448, 0.        , 0.        ]])"
            ]
          },
          "metadata": {},
          "execution_count": 25
        }
      ]
    },
    {
      "cell_type": "code",
      "source": [
        "# 해시트릭(hash function) > 속도 up, 충돌발생 가능성 > 단어 인덱스 번호를 수식으로 생성(일반적)"
      ],
      "metadata": {
        "id": "38vHcSdcD5Bl"
      },
      "execution_count": 26,
      "outputs": []
    },
    {
      "cell_type": "code",
      "source": [
        ""
      ],
      "metadata": {
        "id": "DOJ96zXbF_KW"
      },
      "execution_count": null,
      "outputs": []
    }
  ]
}