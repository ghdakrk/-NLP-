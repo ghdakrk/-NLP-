{
  "nbformat": 4,
  "nbformat_minor": 0,
  "metadata": {
    "colab": {
      "name": "soynlp.ipynb",
      "provenance": [],
      "collapsed_sections": [],
      "authorship_tag": "ABX9TyOxyKfb6tA7xW1ZDzdV75k0",
      "include_colab_link": true
    },
    "kernelspec": {
      "name": "python3",
      "display_name": "Python 3"
    },
    "language_info": {
      "name": "python"
    },
    "accelerator": "GPU"
  },
  "cells": [
    {
      "cell_type": "markdown",
      "metadata": {
        "id": "view-in-github",
        "colab_type": "text"
      },
      "source": [
        "<a href=\"https://colab.research.google.com/github/ghdakrk/-NLP-/blob/main/soynlp.ipynb\" target=\"_parent\"><img src=\"https://colab.research.google.com/assets/colab-badge.svg\" alt=\"Open In Colab\"/></a>"
      ]
    },
    {
      "cell_type": "code",
      "execution_count": 1,
      "metadata": {
        "id": "flgh50EPIbUT"
      },
      "outputs": [],
      "source": [
        "# 단어장 없이 형태소를 나눠주는 패키지, cohension 기반(조건부 확률)"
      ]
    },
    {
      "cell_type": "code",
      "source": [
        "!pip install soynlp"
      ],
      "metadata": {
        "colab": {
          "base_uri": "https://localhost:8080/"
        },
        "id": "gkBasTPqItip",
        "outputId": "6663afe5-575f-4083-ee12-b8e63b09d713"
      },
      "execution_count": 3,
      "outputs": [
        {
          "output_type": "stream",
          "name": "stdout",
          "text": [
            "Collecting soynlp\n",
            "  Downloading soynlp-0.0.493-py3-none-any.whl (416 kB)\n",
            "\u001b[?25l\r\u001b[K     |▉                               | 10 kB 36.9 MB/s eta 0:00:01\r\u001b[K     |█▋                              | 20 kB 37.6 MB/s eta 0:00:01\r\u001b[K     |██▍                             | 30 kB 40.3 MB/s eta 0:00:01\r\u001b[K     |███▏                            | 40 kB 27.0 MB/s eta 0:00:01\r\u001b[K     |████                            | 51 kB 17.4 MB/s eta 0:00:01\r\u001b[K     |████▊                           | 61 kB 14.0 MB/s eta 0:00:01\r\u001b[K     |█████▌                          | 71 kB 15.5 MB/s eta 0:00:01\r\u001b[K     |██████▎                         | 81 kB 17.1 MB/s eta 0:00:01\r\u001b[K     |███████                         | 92 kB 17.5 MB/s eta 0:00:01\r\u001b[K     |███████▉                        | 102 kB 15.4 MB/s eta 0:00:01\r\u001b[K     |████████▋                       | 112 kB 15.4 MB/s eta 0:00:01\r\u001b[K     |█████████▍                      | 122 kB 15.4 MB/s eta 0:00:01\r\u001b[K     |██████████▏                     | 133 kB 15.4 MB/s eta 0:00:01\r\u001b[K     |███████████                     | 143 kB 15.4 MB/s eta 0:00:01\r\u001b[K     |███████████▉                    | 153 kB 15.4 MB/s eta 0:00:01\r\u001b[K     |████████████▋                   | 163 kB 15.4 MB/s eta 0:00:01\r\u001b[K     |█████████████▍                  | 174 kB 15.4 MB/s eta 0:00:01\r\u001b[K     |██████████████▏                 | 184 kB 15.4 MB/s eta 0:00:01\r\u001b[K     |███████████████                 | 194 kB 15.4 MB/s eta 0:00:01\r\u001b[K     |███████████████▊                | 204 kB 15.4 MB/s eta 0:00:01\r\u001b[K     |████████████████▌               | 215 kB 15.4 MB/s eta 0:00:01\r\u001b[K     |█████████████████▎              | 225 kB 15.4 MB/s eta 0:00:01\r\u001b[K     |██████████████████              | 235 kB 15.4 MB/s eta 0:00:01\r\u001b[K     |██████████████████▉             | 245 kB 15.4 MB/s eta 0:00:01\r\u001b[K     |███████████████████▋            | 256 kB 15.4 MB/s eta 0:00:01\r\u001b[K     |████████████████████▍           | 266 kB 15.4 MB/s eta 0:00:01\r\u001b[K     |█████████████████████▎          | 276 kB 15.4 MB/s eta 0:00:01\r\u001b[K     |██████████████████████          | 286 kB 15.4 MB/s eta 0:00:01\r\u001b[K     |██████████████████████▉         | 296 kB 15.4 MB/s eta 0:00:01\r\u001b[K     |███████████████████████▋        | 307 kB 15.4 MB/s eta 0:00:01\r\u001b[K     |████████████████████████▍       | 317 kB 15.4 MB/s eta 0:00:01\r\u001b[K     |█████████████████████████▏      | 327 kB 15.4 MB/s eta 0:00:01\r\u001b[K     |██████████████████████████      | 337 kB 15.4 MB/s eta 0:00:01\r\u001b[K     |██████████████████████████▊     | 348 kB 15.4 MB/s eta 0:00:01\r\u001b[K     |███████████████████████████▌    | 358 kB 15.4 MB/s eta 0:00:01\r\u001b[K     |████████████████████████████▎   | 368 kB 15.4 MB/s eta 0:00:01\r\u001b[K     |█████████████████████████████   | 378 kB 15.4 MB/s eta 0:00:01\r\u001b[K     |█████████████████████████████▉  | 389 kB 15.4 MB/s eta 0:00:01\r\u001b[K     |██████████████████████████████▋ | 399 kB 15.4 MB/s eta 0:00:01\r\u001b[K     |███████████████████████████████▌| 409 kB 15.4 MB/s eta 0:00:01\r\u001b[K     |████████████████████████████████| 416 kB 15.4 MB/s \n",
            "\u001b[?25hRequirement already satisfied: numpy>=1.12.1 in /usr/local/lib/python3.7/dist-packages (from soynlp) (1.19.5)\n",
            "Requirement already satisfied: psutil>=5.0.1 in /usr/local/lib/python3.7/dist-packages (from soynlp) (5.4.8)\n",
            "Requirement already satisfied: scikit-learn>=0.20.0 in /usr/local/lib/python3.7/dist-packages (from soynlp) (1.0.1)\n",
            "Requirement already satisfied: scipy>=1.1.0 in /usr/local/lib/python3.7/dist-packages (from soynlp) (1.4.1)\n",
            "Requirement already satisfied: threadpoolctl>=2.0.0 in /usr/local/lib/python3.7/dist-packages (from scikit-learn>=0.20.0->soynlp) (3.0.0)\n",
            "Requirement already satisfied: joblib>=0.11 in /usr/local/lib/python3.7/dist-packages (from scikit-learn>=0.20.0->soynlp) (1.1.0)\n",
            "Installing collected packages: soynlp\n",
            "Successfully installed soynlp-0.0.493\n"
          ]
        }
      ]
    },
    {
      "cell_type": "code",
      "source": [
        "# 말뭉치 다운로드\n",
        "!wget http://raw.githubusercontent.com/lovit/soynlp/master/tutorials/2016-10-20.txt -O 2016-10-20.txt"
      ],
      "metadata": {
        "colab": {
          "base_uri": "https://localhost:8080/"
        },
        "id": "qjmE2AG8IvF4",
        "outputId": "f66f9069-5dee-414b-c5af-2f4c061f3df3"
      },
      "execution_count": 6,
      "outputs": [
        {
          "output_type": "stream",
          "name": "stdout",
          "text": [
            "URL transformed to HTTPS due to an HSTS policy\n",
            "--2021-12-09 03:02:59--  https://raw.githubusercontent.com/lovit/soynlp/master/tutorials/2016-10-20.txt\n",
            "Resolving raw.githubusercontent.com (raw.githubusercontent.com)... 185.199.109.133, 185.199.110.133, 185.199.108.133, ...\n",
            "Connecting to raw.githubusercontent.com (raw.githubusercontent.com)|185.199.109.133|:443... connected.\n",
            "HTTP request sent, awaiting response... 200 OK\n",
            "Length: 43694449 (42M) [text/plain]\n",
            "Saving to: ‘2016-10-20.txt’\n",
            "\n",
            "2016-10-20.txt      100%[===================>]  41.67M   257MB/s    in 0.2s    \n",
            "\n",
            "2021-12-09 03:03:01 (257 MB/s) - ‘2016-10-20.txt’ saved [43694449/43694449]\n",
            "\n"
          ]
        }
      ]
    },
    {
      "cell_type": "code",
      "source": [
        "from soynlp import DoublespaceLineCorpus\n",
        "\n",
        "# 문서단위 말뭉치 생성\n",
        "corpus = DoublespaceLineCorpus(\"2016-10-20.txt\")\n",
        "len(corpus)"
      ],
      "metadata": {
        "colab": {
          "base_uri": "https://localhost:8080/"
        },
        "id": "8UxCbZoPJA0C",
        "outputId": "f34ab2dd-1e52-45a9-f77d-928b3bc6e59e"
      },
      "execution_count": 7,
      "outputs": [
        {
          "output_type": "execute_result",
          "data": {
            "text/plain": [
              "30091"
            ]
          },
          "metadata": {},
          "execution_count": 7
        }
      ]
    },
    {
      "cell_type": "code",
      "source": [
        "i = 0\n",
        "for d in corpus:\n",
        "    print(i, d)\n",
        "    i += 1\n",
        "    if i > 4:\n",
        "        break "
      ],
      "metadata": {
        "colab": {
          "base_uri": "https://localhost:8080/"
        },
        "id": "NQqbdGqzJiPP",
        "outputId": "5f7ee929-c4c0-467a-8037-d648789317c9"
      },
      "execution_count": 9,
      "outputs": [
        {
          "output_type": "stream",
          "name": "stdout",
          "text": [
            "0 \n",
            "1 19  1990  52 1 22\n",
            "2 오패산터널 총격전 용의자 검거 서울 연합뉴스 경찰 관계자들이 19일 오후 서울 강북구 오패산 터널 인근에서 사제 총기를 발사해 경찰을 살해한 용의자 성모씨를 검거하고 있다 성씨는 검거 당시 서바이벌 게임에서 쓰는 방탄조끼에 헬멧까지 착용한 상태였다 독자제공 영상 캡처 연합뉴스  서울 연합뉴스 김은경 기자 사제 총기로 경찰을 살해한 범인 성모 46 씨는 주도면밀했다  경찰에 따르면 성씨는 19일 오후 강북경찰서 인근 부동산 업소 밖에서 부동산업자 이모 67 씨가 나오기를 기다렸다 이씨와는 평소에도 말다툼을 자주 한 것으로 알려졌다  이씨가 나와 걷기 시작하자 성씨는 따라가면서 미리 준비해온 사제 총기를 이씨에게 발사했다 총알이 빗나가면서 이씨는 도망갔다 그 빗나간 총알은 지나가던 행인 71 씨의 배를 스쳤다  성씨는 강북서 인근 치킨집까지 이씨 뒤를 쫓으며 실랑이하다 쓰러뜨린 후 총기와 함께 가져온 망치로 이씨 머리를 때렸다  이 과정에서 오후 6시 20분께 강북구 번동 길 위에서 사람들이 싸우고 있다 총소리가 났다 는 등의 신고가 여러건 들어왔다  5분 후에 성씨의 전자발찌가 훼손됐다는 신고가 보호관찰소 시스템을 통해 들어왔다 성범죄자로 전자발찌를 차고 있던 성씨는 부엌칼로 직접 자신의 발찌를 끊었다  용의자 소지 사제총기 2정 서울 연합뉴스 임헌정 기자 서울 시내에서 폭행 용의자가 현장 조사를 벌이던 경찰관에게 사제총기를 발사해 경찰관이 숨졌다 19일 오후 6시28분 강북구 번동에서 둔기로 맞았다 는 폭행 피해 신고가 접수돼 현장에서 조사하던 강북경찰서 번동파출소 소속 김모 54 경위가 폭행 용의자 성모 45 씨가 쏜 사제총기에 맞고 쓰러진 뒤 병원에 옮겨졌으나 숨졌다 사진은 용의자가 소지한 사제총기  신고를 받고 번동파출소에서 김창호 54 경위 등 경찰들이 오후 6시 29분께 현장으로 출동했다 성씨는 그사이 부동산 앞에 놓아뒀던 가방을 챙겨 오패산 쪽으로 도망간 후였다  김 경위는 오패산 터널 입구 오른쪽의 급경사에서 성씨에게 접근하다가 오후 6시 33분께 풀숲에 숨은 성씨가 허공에 난사한 10여발의 총알 중 일부를 왼쪽 어깨 뒷부분에 맞고 쓰러졌다  김 경위는 구급차가 도착했을 때 이미 의식이 없었고 심폐소생술을 하며 병원으로 옮겨졌으나 총알이 폐를 훼손해 오후 7시 40분께 사망했다  김 경위는 외근용 조끼를 입고 있었으나 총알을 막기에는 역부족이었다  머리에 부상을 입은 이씨도 함께 병원으로 이송됐으나 생명에는 지장이 없는 것으로 알려졌다  성씨는 오패산 터널 밑쪽 숲에서 오후 6시 45분께 잡혔다  총격현장 수색하는 경찰들 서울 연합뉴스 이효석 기자 19일 오후 서울 강북구 오패산 터널 인근에서 경찰들이 폭행 용의자가 사제총기를 발사해 경찰관이 사망한 사건을 조사 하고 있다  총 때문에 쫓던 경관들과 민간인들이 몸을 숨겼는데 인근 신발가게 직원 이모씨가 다가가 성씨를 덮쳤고 이어 현장에 있던 다른 상인들과 경찰이 가세해 체포했다  성씨는 경찰에 붙잡힌 직후 나 자살하려고 한 거다 맞아 죽어도 괜찮다 고 말한 것으로 전해졌다  성씨 자신도 경찰이 발사한 공포탄 1발 실탄 3발 중 실탄 1발을 배에 맞았으나 방탄조끼를 입은 상태여서 부상하지는 않았다  경찰은 인근을 수색해 성씨가 만든 사제총 16정과 칼 7개를 압수했다 실제 폭발할지는 알 수 없는 요구르트병에 무언가를 채워두고 심지를 꽂은 사제 폭탄도 발견됐다  일부는 숲에서 발견됐고 일부는 성씨가 소지한 가방 안에 있었다\n",
            "3 테헤란 연합뉴스 강훈상 특파원 이용 승객수 기준 세계 최대 공항인 아랍에미리트 두바이국제공항은 19일 현지시간 이 공항을 이륙하는 모든 항공기의 탑승객은 삼성전자의 갤럭시노트7을 휴대하면 안 된다고 밝혔다  두바이국제공항은 여러 항공 관련 기구의 권고에 따라 안전성에 우려가 있는 스마트폰 갤럭시노트7을 휴대하고 비행기를 타면 안 된다 며 탑승 전 검색 중 발견되면 압수할 계획 이라고 발표했다  공항 측은 갤럭시노트7의 배터리가 폭발 우려가 제기된 만큼 이 제품을 갖고 공항 안으로 들어오지 말라고 이용객에 당부했다  이런 조치는 두바이국제공항 뿐 아니라 신공항인 두바이월드센터에도 적용된다  배터리 폭발문제로 회수된 갤럭시노트7 연합뉴스자료사진\n",
            "4 브뤼셀 연합뉴스 김병수 특파원 독일 정부는 19일 원자력발전소를 폐쇄하기로 함에 따라 원자력 발전소 운영자들에게 핵폐기물 처리를 지원하는 펀드에 235억 유로 260억 달러 29조 원 를 지불하도록 하는 계획을 승인했다고 언론들이 보도했다  앞서 독일은 5년 전 일본 후쿠시마 원전사태 이후 오는 2022년까지 원전 17기를 모두 폐쇄하기로 하고 오는 2050년까지 전기생산량의 80 를 재생에너지로 충당하는 것을 목표로 세웠다  이날 내각을 통과한 법안은 원전 운영자들이 원전 해체와 핵폐기물 처리를 위한 포장을 책임지고 정부는 핵폐기물 보관을 책임지도록 했다  독일 경제부는 전력회사들과 공식적인 접촉은 아직 합의되지 않았다고 밝혔다  독일 원자력 발전소 연합뉴스 자료사진\n"
          ]
        }
      ]
    },
    {
      "cell_type": "code",
      "source": [
        "corpus = DoublespaceLineCorpus(\"2016-10-20.txt\", iter_sent=True)\n",
        "len(corpus)"
      ],
      "metadata": {
        "colab": {
          "base_uri": "https://localhost:8080/"
        },
        "id": "4kW_wgWFJ5ug",
        "outputId": "66f21112-8b1c-4fd0-b675-9af9bdca582c"
      },
      "execution_count": 10,
      "outputs": [
        {
          "output_type": "execute_result",
          "data": {
            "text/plain": [
              "223357"
            ]
          },
          "metadata": {},
          "execution_count": 10
        }
      ]
    },
    {
      "cell_type": "code",
      "source": [
        "i = 0\n",
        "for d in corpus:\n",
        "    print(i, d)\n",
        "    i += 1\n",
        "    if i > 4:\n",
        "        break "
      ],
      "metadata": {
        "colab": {
          "base_uri": "https://localhost:8080/"
        },
        "id": "4b4OMnxYKK91",
        "outputId": "6a46d252-047b-44fe-d77d-6043a5fa80c5"
      },
      "execution_count": 11,
      "outputs": [
        {
          "output_type": "stream",
          "name": "stdout",
          "text": [
            "0 19\n",
            "1 1990\n",
            "2 52 1 22\n",
            "3 오패산터널 총격전 용의자 검거 서울 연합뉴스 경찰 관계자들이 19일 오후 서울 강북구 오패산 터널 인근에서 사제 총기를 발사해 경찰을 살해한 용의자 성모씨를 검거하고 있다 성씨는 검거 당시 서바이벌 게임에서 쓰는 방탄조끼에 헬멧까지 착용한 상태였다 독자제공 영상 캡처 연합뉴스\n",
            "4 서울 연합뉴스 김은경 기자 사제 총기로 경찰을 살해한 범인 성모 46 씨는 주도면밀했다\n"
          ]
        }
      ]
    },
    {
      "cell_type": "code",
      "source": [
        "# 단어 추출\n",
        "%%time\n",
        "from soynlp.word import WordExtractor\n",
        "\n",
        "word_extractor = WordExtractor()\n",
        "word_extractor.train(corpus)"
      ],
      "metadata": {
        "colab": {
          "base_uri": "https://localhost:8080/"
        },
        "id": "gArE_9enKPb2",
        "outputId": "f7a5c2e8-7736-4745-caeb-b126f247fdb6"
      },
      "execution_count": 12,
      "outputs": [
        {
          "output_type": "stream",
          "name": "stdout",
          "text": [
            "training was done. used memory 1.203 Gb\n",
            "CPU times: user 40.5 s, sys: 652 ms, total: 41.1 s\n",
            "Wall time: 41.1 s\n"
          ]
        }
      ]
    },
    {
      "cell_type": "code",
      "source": [
        "word_score = word_extractor.extract()"
      ],
      "metadata": {
        "colab": {
          "base_uri": "https://localhost:8080/"
        },
        "id": "ELDJcfnoKdYg",
        "outputId": "7d4497c6-f8f1-4a70-fa59-bc584396d365"
      },
      "execution_count": 13,
      "outputs": [
        {
          "output_type": "stream",
          "name": "stdout",
          "text": [
            "all cohesion probabilities was computed. # words = 223348\n",
            "all branching entropies was computed # words = 360721\n",
            "all accessor variety was computed # words = 360721\n"
          ]
        }
      ]
    },
    {
      "cell_type": "code",
      "source": [
        "# 조건부 확률\n",
        "word_score[\"연합\"].cohesion_forward"
      ],
      "metadata": {
        "colab": {
          "base_uri": "https://localhost:8080/"
        },
        "id": "NSPhusWKKsEf",
        "outputId": "3ea95fe1-e261-45c0-82aa-9b9b2769bec6"
      },
      "execution_count": 16,
      "outputs": [
        {
          "output_type": "execute_result",
          "data": {
            "text/plain": [
              "0.1943363253634125"
            ]
          },
          "metadata": {},
          "execution_count": 16
        }
      ]
    },
    {
      "cell_type": "code",
      "source": [
        "word_score[\"연합뉴\"].cohesion_forward"
      ],
      "metadata": {
        "colab": {
          "base_uri": "https://localhost:8080/"
        },
        "id": "1uq2_a30LFTF",
        "outputId": "e1684314-a464-4bd2-cb27-b242daa20f73"
      },
      "execution_count": 17,
      "outputs": [
        {
          "output_type": "execute_result",
          "data": {
            "text/plain": [
              "0.43154839105434084"
            ]
          },
          "metadata": {},
          "execution_count": 17
        }
      ]
    },
    {
      "cell_type": "code",
      "source": [
        "word_score[\"연합뉴스\"].cohesion_forward"
      ],
      "metadata": {
        "colab": {
          "base_uri": "https://localhost:8080/"
        },
        "id": "r732qMu8LNZn",
        "outputId": "38847ad9-7681-4c13-e6e5-36b7f12187eb"
      },
      "execution_count": 18,
      "outputs": [
        {
          "output_type": "execute_result",
          "data": {
            "text/plain": [
              "0.5710254410737682"
            ]
          },
          "metadata": {},
          "execution_count": 18
        }
      ]
    },
    {
      "cell_type": "code",
      "source": [
        "word_score[\"연합뉴스는\"].cohesion_forward"
      ],
      "metadata": {
        "colab": {
          "base_uri": "https://localhost:8080/"
        },
        "id": "Y8XxpmZgLQi4",
        "outputId": "20330e1c-1f0a-413d-d75d-0276ebe7b268"
      },
      "execution_count": 20,
      "outputs": [
        {
          "output_type": "execute_result",
          "data": {
            "text/plain": [
              "0.1535595043355021"
            ]
          },
          "metadata": {},
          "execution_count": 20
        }
      ]
    },
    {
      "cell_type": "code",
      "source": [
        "'''\n",
        "이런식으로 조건부 확률이 높은 지점으로 단어를 잘라\n",
        "형태소를 추출한다.\n",
        "'''"
      ],
      "metadata": {
        "colab": {
          "base_uri": "https://localhost:8080/",
          "height": 35
        },
        "id": "aRt4iUOtLSZJ",
        "outputId": "0c42d68f-0d76-4575-fecb-f11eba9f49b8"
      },
      "execution_count": 21,
      "outputs": [
        {
          "output_type": "execute_result",
          "data": {
            "application/vnd.google.colaboratory.intrinsic+json": {
              "type": "string"
            },
            "text/plain": [
              "'\\n이런식으로 조건부 확률이 높은 지점으로 단어를 잘라\\n형태소를 추출한다.\\n'"
            ]
          },
          "metadata": {},
          "execution_count": 21
        }
      ]
    },
    {
      "cell_type": "code",
      "source": [
        "# 브랜칭 엔트로피\n",
        "word_score['연합'].right_branching_entropy"
      ],
      "metadata": {
        "colab": {
          "base_uri": "https://localhost:8080/"
        },
        "id": "rb7-8hofLjo1",
        "outputId": "1cd23360-772e-4019-9aee-89577aa3a00f"
      },
      "execution_count": 24,
      "outputs": [
        {
          "output_type": "execute_result",
          "data": {
            "text/plain": [
              "0.42721236711742844"
            ]
          },
          "metadata": {},
          "execution_count": 24
        }
      ]
    },
    {
      "cell_type": "code",
      "source": [
        "word_score['연합뉴'].right_branching_entropy"
      ],
      "metadata": {
        "colab": {
          "base_uri": "https://localhost:8080/"
        },
        "id": "r8n3MScOL8HV",
        "outputId": "a7944109-6be6-4016-e28e-c4fbfae41d4d"
      },
      "execution_count": 25,
      "outputs": [
        {
          "output_type": "execute_result",
          "data": {
            "text/plain": [
              "-0.0"
            ]
          },
          "metadata": {},
          "execution_count": 25
        }
      ]
    },
    {
      "cell_type": "code",
      "source": [
        "word_score['연합뉴스'].right_branching_entropy"
      ],
      "metadata": {
        "colab": {
          "base_uri": "https://localhost:8080/"
        },
        "id": "V4aa6PzHL3b6",
        "outputId": "86aaabb5-b312-4440-fb1b-f58e84fe2e7d"
      },
      "execution_count": 23,
      "outputs": [
        {
          "output_type": "execute_result",
          "data": {
            "text/plain": [
              "3.8967810761022053"
            ]
          },
          "metadata": {},
          "execution_count": 23
        }
      ]
    },
    {
      "cell_type": "code",
      "source": [
        "'''\n",
        "다음에 나올 가짓수가 적으면 엔트로피가 낮다.\n",
        "'''"
      ],
      "metadata": {
        "colab": {
          "base_uri": "https://localhost:8080/",
          "height": 35
        },
        "id": "94ivPvk2L6WP",
        "outputId": "635174ec-8ab8-4876-c26d-ddf97c384f98"
      },
      "execution_count": 26,
      "outputs": [
        {
          "output_type": "execute_result",
          "data": {
            "application/vnd.google.colaboratory.intrinsic+json": {
              "type": "string"
            },
            "text/plain": [
              "'\\n다음에 나올 가짓수가 적으면 엔트로피가 낮다.\\n'"
            ]
          },
          "metadata": {},
          "execution_count": 26
        }
      ]
    },
    {
      "cell_type": "code",
      "source": [
        "# l토큰화\n",
        "from soynlp.tokenizer import LTokenizer\n",
        "\n",
        "scores = {word:score.cohesion_forward for word, score in word_score.items()}\n",
        "l_tokenizer = LTokenizer(scores=scores)\n",
        "\n",
        "l_tokenizer.tokenize(\"안정성에 문제있는 스마트폰을 탑승할 경우 압수한다.\", flatten=False)"
      ],
      "metadata": {
        "colab": {
          "base_uri": "https://localhost:8080/"
        },
        "id": "FtE9_UtPMEFK",
        "outputId": "2e3a4d31-2789-421f-e35f-f57ed6a635a9"
      },
      "execution_count": 30,
      "outputs": [
        {
          "output_type": "execute_result",
          "data": {
            "text/plain": [
              "[('안정성', '에'),\n",
              " ('문제', '있는'),\n",
              " ('스마트폰', '을'),\n",
              " ('탑승', '할'),\n",
              " ('경우', ''),\n",
              " ('압수', '한다.')]"
            ]
          },
          "metadata": {},
          "execution_count": 30
        }
      ]
    },
    {
      "cell_type": "code",
      "source": [
        ""
      ],
      "metadata": {
        "id": "Bx3__ybbMEHT"
      },
      "execution_count": null,
      "outputs": []
    }
  ]
}